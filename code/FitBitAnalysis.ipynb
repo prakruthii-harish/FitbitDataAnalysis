{
  "nbformat": 4,
  "nbformat_minor": 0,
  "metadata": {
    "colab": {
      "provenance": []
    },
    "kernelspec": {
      "name": "python3",
      "display_name": "Python 3"
    },
    "language_info": {
      "name": "python"
    }
  },
  "cells": [
    {
      "cell_type": "markdown",
      "source": [
        "Installed Dash and other necessary libraries."
      ],
      "metadata": {
        "id": "dVPwCrEUTTO7"
      }
    },
    {
      "cell_type": "code",
      "source": [
        "# Install a specific version of jupyter-dash and dash that are known to be compatible\n",
        "# You might need to experiment with versions based on what's compatible with your Colab environment\n",
        "!pip install dash==2.14.2 jupyter-dash==0.4.2"
      ],
      "metadata": {
        "colab": {
          "base_uri": "https://localhost:8080/"
        },
        "collapsed": true,
        "id": "ARmT9MyoS5w1",
        "outputId": "bb1b70d5-9069-4290-fc85-ce6b6278bfb1"
      },
      "execution_count": 1,
      "outputs": [
        {
          "output_type": "stream",
          "name": "stdout",
          "text": [
            "Requirement already satisfied: dash==2.14.2 in /usr/local/lib/python3.11/dist-packages (2.14.2)\n",
            "Requirement already satisfied: jupyter-dash==0.4.2 in /usr/local/lib/python3.11/dist-packages (0.4.2)\n",
            "Requirement already satisfied: Flask<3.1,>=1.0.4 in /usr/local/lib/python3.11/dist-packages (from dash==2.14.2) (3.0.3)\n",
            "Requirement already satisfied: Werkzeug<3.1 in /usr/local/lib/python3.11/dist-packages (from dash==2.14.2) (3.0.6)\n",
            "Requirement already satisfied: plotly>=5.0.0 in /usr/local/lib/python3.11/dist-packages (from dash==2.14.2) (5.24.1)\n",
            "Requirement already satisfied: dash-html-components==2.0.0 in /usr/local/lib/python3.11/dist-packages (from dash==2.14.2) (2.0.0)\n",
            "Requirement already satisfied: dash-core-components==2.0.0 in /usr/local/lib/python3.11/dist-packages (from dash==2.14.2) (2.0.0)\n",
            "Requirement already satisfied: dash-table==5.0.0 in /usr/local/lib/python3.11/dist-packages (from dash==2.14.2) (5.0.0)\n",
            "Requirement already satisfied: typing-extensions>=4.1.1 in /usr/local/lib/python3.11/dist-packages (from dash==2.14.2) (4.14.0)\n",
            "Requirement already satisfied: requests in /usr/local/lib/python3.11/dist-packages (from dash==2.14.2) (2.32.3)\n",
            "Requirement already satisfied: retrying in /usr/local/lib/python3.11/dist-packages (from dash==2.14.2) (1.3.4)\n",
            "Requirement already satisfied: ansi2html in /usr/local/lib/python3.11/dist-packages (from dash==2.14.2) (1.9.2)\n",
            "Requirement already satisfied: nest-asyncio in /usr/local/lib/python3.11/dist-packages (from dash==2.14.2) (1.6.0)\n",
            "Requirement already satisfied: setuptools in /usr/local/lib/python3.11/dist-packages (from dash==2.14.2) (75.2.0)\n",
            "Requirement already satisfied: importlib-metadata in /usr/local/lib/python3.11/dist-packages (from dash==2.14.2) (8.7.0)\n",
            "Requirement already satisfied: ipython in /usr/local/lib/python3.11/dist-packages (from jupyter-dash==0.4.2) (7.34.0)\n",
            "Requirement already satisfied: ipykernel in /usr/local/lib/python3.11/dist-packages (from jupyter-dash==0.4.2) (6.17.1)\n",
            "Requirement already satisfied: Jinja2>=3.1.2 in /usr/local/lib/python3.11/dist-packages (from Flask<3.1,>=1.0.4->dash==2.14.2) (3.1.6)\n",
            "Requirement already satisfied: itsdangerous>=2.1.2 in /usr/local/lib/python3.11/dist-packages (from Flask<3.1,>=1.0.4->dash==2.14.2) (2.2.0)\n",
            "Requirement already satisfied: click>=8.1.3 in /usr/local/lib/python3.11/dist-packages (from Flask<3.1,>=1.0.4->dash==2.14.2) (8.2.1)\n",
            "Requirement already satisfied: blinker>=1.6.2 in /usr/local/lib/python3.11/dist-packages (from Flask<3.1,>=1.0.4->dash==2.14.2) (1.9.0)\n",
            "Requirement already satisfied: tenacity>=6.2.0 in /usr/local/lib/python3.11/dist-packages (from plotly>=5.0.0->dash==2.14.2) (9.1.2)\n",
            "Requirement already satisfied: packaging in /usr/local/lib/python3.11/dist-packages (from plotly>=5.0.0->dash==2.14.2) (24.2)\n",
            "Requirement already satisfied: MarkupSafe>=2.1.1 in /usr/local/lib/python3.11/dist-packages (from Werkzeug<3.1->dash==2.14.2) (3.0.2)\n",
            "Requirement already satisfied: zipp>=3.20 in /usr/local/lib/python3.11/dist-packages (from importlib-metadata->dash==2.14.2) (3.22.0)\n",
            "Requirement already satisfied: debugpy>=1.0 in /usr/local/lib/python3.11/dist-packages (from ipykernel->jupyter-dash==0.4.2) (1.8.0)\n",
            "Requirement already satisfied: jupyter-client>=6.1.12 in /usr/local/lib/python3.11/dist-packages (from ipykernel->jupyter-dash==0.4.2) (6.1.12)\n",
            "Requirement already satisfied: matplotlib-inline>=0.1 in /usr/local/lib/python3.11/dist-packages (from ipykernel->jupyter-dash==0.4.2) (0.1.7)\n",
            "Requirement already satisfied: psutil in /usr/local/lib/python3.11/dist-packages (from ipykernel->jupyter-dash==0.4.2) (5.9.5)\n",
            "Requirement already satisfied: pyzmq>=17 in /usr/local/lib/python3.11/dist-packages (from ipykernel->jupyter-dash==0.4.2) (24.0.1)\n",
            "Requirement already satisfied: tornado>=6.1 in /usr/local/lib/python3.11/dist-packages (from ipykernel->jupyter-dash==0.4.2) (6.4.2)\n",
            "Requirement already satisfied: traitlets>=5.1.0 in /usr/local/lib/python3.11/dist-packages (from ipykernel->jupyter-dash==0.4.2) (5.7.1)\n",
            "Requirement already satisfied: jedi>=0.16 in /usr/local/lib/python3.11/dist-packages (from ipython->jupyter-dash==0.4.2) (0.19.2)\n",
            "Requirement already satisfied: decorator in /usr/local/lib/python3.11/dist-packages (from ipython->jupyter-dash==0.4.2) (4.4.2)\n",
            "Requirement already satisfied: pickleshare in /usr/local/lib/python3.11/dist-packages (from ipython->jupyter-dash==0.4.2) (0.7.5)\n",
            "Requirement already satisfied: prompt-toolkit!=3.0.0,!=3.0.1,<3.1.0,>=2.0.0 in /usr/local/lib/python3.11/dist-packages (from ipython->jupyter-dash==0.4.2) (3.0.51)\n",
            "Requirement already satisfied: pygments in /usr/local/lib/python3.11/dist-packages (from ipython->jupyter-dash==0.4.2) (2.19.1)\n",
            "Requirement already satisfied: backcall in /usr/local/lib/python3.11/dist-packages (from ipython->jupyter-dash==0.4.2) (0.2.0)\n",
            "Requirement already satisfied: pexpect>4.3 in /usr/local/lib/python3.11/dist-packages (from ipython->jupyter-dash==0.4.2) (4.9.0)\n",
            "Requirement already satisfied: charset-normalizer<4,>=2 in /usr/local/lib/python3.11/dist-packages (from requests->dash==2.14.2) (3.4.2)\n",
            "Requirement already satisfied: idna<4,>=2.5 in /usr/local/lib/python3.11/dist-packages (from requests->dash==2.14.2) (3.10)\n",
            "Requirement already satisfied: urllib3<3,>=1.21.1 in /usr/local/lib/python3.11/dist-packages (from requests->dash==2.14.2) (2.4.0)\n",
            "Requirement already satisfied: certifi>=2017.4.17 in /usr/local/lib/python3.11/dist-packages (from requests->dash==2.14.2) (2025.4.26)\n",
            "Requirement already satisfied: six>=1.7.0 in /usr/local/lib/python3.11/dist-packages (from retrying->dash==2.14.2) (1.17.0)\n",
            "Requirement already satisfied: parso<0.9.0,>=0.8.4 in /usr/local/lib/python3.11/dist-packages (from jedi>=0.16->ipython->jupyter-dash==0.4.2) (0.8.4)\n",
            "Requirement already satisfied: jupyter-core>=4.6.0 in /usr/local/lib/python3.11/dist-packages (from jupyter-client>=6.1.12->ipykernel->jupyter-dash==0.4.2) (5.8.1)\n",
            "Requirement already satisfied: python-dateutil>=2.1 in /usr/local/lib/python3.11/dist-packages (from jupyter-client>=6.1.12->ipykernel->jupyter-dash==0.4.2) (2.9.0.post0)\n",
            "Requirement already satisfied: ptyprocess>=0.5 in /usr/local/lib/python3.11/dist-packages (from pexpect>4.3->ipython->jupyter-dash==0.4.2) (0.7.0)\n",
            "Requirement already satisfied: wcwidth in /usr/local/lib/python3.11/dist-packages (from prompt-toolkit!=3.0.0,!=3.0.1,<3.1.0,>=2.0.0->ipython->jupyter-dash==0.4.2) (0.2.13)\n",
            "Requirement already satisfied: platformdirs>=2.5 in /usr/local/lib/python3.11/dist-packages (from jupyter-core>=4.6.0->jupyter-client>=6.1.12->ipykernel->jupyter-dash==0.4.2) (4.3.8)\n"
          ]
        }
      ]
    },
    {
      "cell_type": "code",
      "execution_count": 2,
      "metadata": {
        "id": "Hm_vL4ZDfYiD",
        "collapsed": true
      },
      "outputs": [],
      "source": [
        "import pandas as pd\n",
        "import numpy as np\n",
        "import matplotlib.pyplot as plt\n",
        "import seaborn as sns\n",
        "import plotly.express as px\n",
        "\n",
        "import os\n",
        "\n",
        "from jupyter_dash import JupyterDash\n",
        "from dash.dependencies import Input, Output"
      ]
    },
    {
      "cell_type": "markdown",
      "source": [
        "Mounted Google Drive and loaded CSV files from specified directories."
      ],
      "metadata": {
        "id": "cRiBw06HTWNk"
      }
    },
    {
      "cell_type": "code",
      "source": [
        "from google.colab import drive\n",
        "drive.mount('/content/drive')"
      ],
      "metadata": {
        "colab": {
          "base_uri": "https://localhost:8080/"
        },
        "id": "GSPXcqHtR-Ny",
        "outputId": "2b61282e-bd6e-4b80-96af-2fb83fdaffee"
      },
      "execution_count": 3,
      "outputs": [
        {
          "output_type": "stream",
          "name": "stdout",
          "text": [
            "Drive already mounted at /content/drive; to attempt to forcibly remount, call drive.mount(\"/content/drive\", force_remount=True).\n"
          ]
        }
      ]
    },
    {
      "cell_type": "markdown",
      "source": [
        "Writing a function to go to a directory and if .csv is there then add the file path to the dataframes array"
      ],
      "metadata": {
        "id": "iq11Tb1YppNB"
      }
    },
    {
      "cell_type": "code",
      "source": [
        "def load_csv_from_directory(directory_path):\n",
        "    dataframes = {}\n",
        "    for file in os.listdir(directory_path):\n",
        "        if file.endswith('.csv'):\n",
        "            file_path = os.path.join(directory_path, file)\n",
        "            dataframes[file] = pd.read_csv(file_path)\n",
        "    return dataframes"
      ],
      "metadata": {
        "id": "gmV9-uuESUtg"
      },
      "execution_count": 4,
      "outputs": []
    },
    {
      "cell_type": "markdown",
      "source": [
        "Defining the directory path for both the directories"
      ],
      "metadata": {
        "id": "Z3P7JlZPp_l3"
      }
    },
    {
      "cell_type": "code",
      "source": [
        "# Define directory paths\n",
        "directory_1_path = '/content/drive/MyDrive/Python_Project/Dataset/mturkfitbit_export_3.12.16-4.11.16/Fitabase Data 3.12.16-4.11.16'\n",
        "directory_2_path = '/content/drive/MyDrive/Python_Project/Dataset/mturkfitbit_export_4.12.16-5.12.16/Fitabase Data 4.12.16-5.12.16'\n",
        "\n",
        "# Load CSV files from each directory\n",
        "dataframes_dir1 = load_csv_from_directory(directory_1_path)\n",
        "dataframes_dir2 = load_csv_from_directory(directory_2_path)"
      ],
      "metadata": {
        "id": "BeDfPlDpTWfY"
      },
      "execution_count": 5,
      "outputs": []
    },
    {
      "cell_type": "markdown",
      "source": [
        "Concatenated DataFrames with the same names across two directories."
      ],
      "metadata": {
        "id": "WXgodGXjTh5g"
      }
    },
    {
      "cell_type": "code",
      "source": [
        "# dataframes_dir1 and dataframes_dir2 are dictionaries of DataFrames loaded from each directory\n",
        "combined_dataframes = {}\n",
        "\n",
        "# Get all unique keys from both directories\n",
        "all_keys = set(dataframes_dir1.keys()).union(set(dataframes_dir2.keys()))\n",
        "\n",
        "# Loop over each key and concatenate if present in both, or just add if present in one\n",
        "for key in all_keys:\n",
        "    if key in dataframes_dir1 and key in dataframes_dir2:\n",
        "        # Concatenate DataFrames if the key exists in both directories\n",
        "        combined_dataframes[key] = pd.concat([dataframes_dir1[key], dataframes_dir2[key]], ignore_index=True)\n",
        "    elif key in dataframes_dir1:\n",
        "        # Only in the first directory\n",
        "        combined_dataframes[key] = dataframes_dir1[key]\n",
        "    elif key in dataframes_dir2:\n",
        "        # Only in the second directory\n",
        "        combined_dataframes[key] = dataframes_dir2[key]\n",
        "\n",
        "# Now, combined_dataframes will contain all DataFrames from both directories, with those having the same name merged across directories"
      ],
      "metadata": {
        "id": "Ze2OMVpgdfk6"
      },
      "execution_count": 6,
      "outputs": []
    },
    {
      "cell_type": "code",
      "source": [
        "print(combined_dataframes.keys())"
      ],
      "metadata": {
        "colab": {
          "base_uri": "https://localhost:8080/"
        },
        "id": "D1h_Jr8bqVGT",
        "outputId": "8cdc0c7b-df06-42ba-e64e-a6245002e41e"
      },
      "execution_count": 7,
      "outputs": [
        {
          "output_type": "stream",
          "name": "stdout",
          "text": [
            "dict_keys(['minuteIntensitiesNarrow_merged.csv', 'minuteMETsNarrow_merged.csv', 'minuteSleep_merged.csv', 'hourlyIntensities_merged.csv', 'hourlyCalories_merged.csv', 'minuteStepsNarrow_merged.csv', 'hourlySteps_merged.csv', 'dailyActivity_merged.csv', 'minuteStepsWide_merged.csv', 'dailySteps_merged.csv', 'minuteCaloriesWide_merged.csv', 'heartrate_seconds_merged.csv', 'weightLogInfo_merged.csv', 'sleepDay_merged.csv', 'dailyCalories_merged.csv', 'minuteCaloriesNarrow_merged.csv', 'dailyIntensities_merged.csv', 'minuteIntensitiesWide_merged.csv'])\n"
          ]
        }
      ]
    },
    {
      "cell_type": "code",
      "source": [
        "sleep_day_df = combined_dataframes['sleepDay_merged.csv']\n",
        "minute_sleep_df = combined_dataframes['minuteSleep_merged.csv']\n",
        "daily_activity_df = combined_dataframes['dailyActivity_merged.csv']\n",
        "weight_log_df = combined_dataframes['weightLogInfo_merged.csv']\n"
      ],
      "metadata": {
        "id": "HI1a69PBCIYp"
      },
      "execution_count": 8,
      "outputs": []
    },
    {
      "cell_type": "markdown",
      "source": [
        "Performing preliminary data inspection - including checking the dataset, statistical descriptions, missing values, and data types."
      ],
      "metadata": {
        "id": "8EnF3xmgT6xa"
      }
    },
    {
      "cell_type": "code",
      "source": [
        "sleep_day_df.info()\n",
        "minute_sleep_df.info()\n",
        "daily_activity_df.info()\n",
        "weight_log_df.info()"
      ],
      "metadata": {
        "colab": {
          "base_uri": "https://localhost:8080/"
        },
        "id": "wA5w2VaFdji3",
        "outputId": "d172f80e-5ca9-4908-a734-8a7fbb018ea0"
      },
      "execution_count": 9,
      "outputs": [
        {
          "output_type": "stream",
          "name": "stdout",
          "text": [
            "<class 'pandas.core.frame.DataFrame'>\n",
            "RangeIndex: 413 entries, 0 to 412\n",
            "Data columns (total 5 columns):\n",
            " #   Column              Non-Null Count  Dtype \n",
            "---  ------              --------------  ----- \n",
            " 0   Id                  413 non-null    int64 \n",
            " 1   SleepDay            413 non-null    object\n",
            " 2   TotalSleepRecords   413 non-null    int64 \n",
            " 3   TotalMinutesAsleep  413 non-null    int64 \n",
            " 4   TotalTimeInBed      413 non-null    int64 \n",
            "dtypes: int64(4), object(1)\n",
            "memory usage: 16.3+ KB\n",
            "<class 'pandas.core.frame.DataFrame'>\n",
            "RangeIndex: 387080 entries, 0 to 387079\n",
            "Data columns (total 4 columns):\n",
            " #   Column  Non-Null Count   Dtype \n",
            "---  ------  --------------   ----- \n",
            " 0   Id      387080 non-null  int64 \n",
            " 1   date    387080 non-null  object\n",
            " 2   value   387080 non-null  int64 \n",
            " 3   logId   387080 non-null  int64 \n",
            "dtypes: int64(3), object(1)\n",
            "memory usage: 11.8+ MB\n",
            "<class 'pandas.core.frame.DataFrame'>\n",
            "RangeIndex: 1397 entries, 0 to 1396\n",
            "Data columns (total 15 columns):\n",
            " #   Column                    Non-Null Count  Dtype  \n",
            "---  ------                    --------------  -----  \n",
            " 0   Id                        1397 non-null   int64  \n",
            " 1   ActivityDate              1397 non-null   object \n",
            " 2   TotalSteps                1397 non-null   int64  \n",
            " 3   TotalDistance             1397 non-null   float64\n",
            " 4   TrackerDistance           1397 non-null   float64\n",
            " 5   LoggedActivitiesDistance  1397 non-null   float64\n",
            " 6   VeryActiveDistance        1397 non-null   float64\n",
            " 7   ModeratelyActiveDistance  1397 non-null   float64\n",
            " 8   LightActiveDistance       1397 non-null   float64\n",
            " 9   SedentaryActiveDistance   1397 non-null   float64\n",
            " 10  VeryActiveMinutes         1397 non-null   int64  \n",
            " 11  FairlyActiveMinutes       1397 non-null   int64  \n",
            " 12  LightlyActiveMinutes      1397 non-null   int64  \n",
            " 13  SedentaryMinutes          1397 non-null   int64  \n",
            " 14  Calories                  1397 non-null   int64  \n",
            "dtypes: float64(7), int64(7), object(1)\n",
            "memory usage: 163.8+ KB\n",
            "<class 'pandas.core.frame.DataFrame'>\n",
            "RangeIndex: 100 entries, 0 to 99\n",
            "Data columns (total 8 columns):\n",
            " #   Column          Non-Null Count  Dtype  \n",
            "---  ------          --------------  -----  \n",
            " 0   Id              100 non-null    int64  \n",
            " 1   Date            100 non-null    object \n",
            " 2   WeightKg        100 non-null    float64\n",
            " 3   WeightPounds    100 non-null    float64\n",
            " 4   Fat             4 non-null      float64\n",
            " 5   BMI             100 non-null    float64\n",
            " 6   IsManualReport  100 non-null    bool   \n",
            " 7   LogId           100 non-null    int64  \n",
            "dtypes: bool(1), float64(4), int64(2), object(1)\n",
            "memory usage: 5.7+ KB\n"
          ]
        }
      ]
    },
    {
      "cell_type": "markdown",
      "source": [
        "Imputing with median of the column values in other dataframe items in case there is null value - which will be helpful if we need to use the dataframes in the latter part of the analysis."
      ],
      "metadata": {
        "id": "ZzJ12R0CC5YB"
      }
    },
    {
      "cell_type": "code",
      "source": [
        "for name, df in combined_dataframes.items():\n",
        "    #Impute missing numeric values with the median\n",
        "    for col in df.select_dtypes(include=np.number).columns:\n",
        "        df[col].fillna(df[col].median(), inplace=True)"
      ],
      "metadata": {
        "id": "Ofh0Yj5XdvuY",
        "colab": {
          "base_uri": "https://localhost:8080/"
        },
        "outputId": "aa54c8e6-e032-4bee-f122-ba9aba0703b8"
      },
      "execution_count": 10,
      "outputs": [
        {
          "output_type": "stream",
          "name": "stderr",
          "text": [
            "<ipython-input-10-2c3646af10a6>:4: FutureWarning: A value is trying to be set on a copy of a DataFrame or Series through chained assignment using an inplace method.\n",
            "The behavior will change in pandas 3.0. This inplace method will never work because the intermediate object on which we are setting values always behaves as a copy.\n",
            "\n",
            "For example, when doing 'df[col].method(value, inplace=True)', try using 'df.method({col: value}, inplace=True)' or df[col] = df[col].method(value) instead, to perform the operation inplace on the original object.\n",
            "\n",
            "\n",
            "  df[col].fillna(df[col].median(), inplace=True)\n"
          ]
        }
      ]
    },
    {
      "cell_type": "code",
      "source": [
        "for name, df in combined_dataframes.items():\n",
        "    print(f\"Data types in {name}:\")\n",
        "    print(df.dtypes)\n",
        "    print(\"\\n\")"
      ],
      "metadata": {
        "colab": {
          "base_uri": "https://localhost:8080/"
        },
        "id": "cnyHLwQEe3YA",
        "outputId": "184a04f4-3fce-4a82-d07c-999ffd37e4da"
      },
      "execution_count": 11,
      "outputs": [
        {
          "output_type": "stream",
          "name": "stdout",
          "text": [
            "Data types in minuteIntensitiesNarrow_merged.csv:\n",
            "Id                 int64\n",
            "ActivityMinute    object\n",
            "Intensity          int64\n",
            "dtype: object\n",
            "\n",
            "\n",
            "Data types in minuteMETsNarrow_merged.csv:\n",
            "Id                 int64\n",
            "ActivityMinute    object\n",
            "METs               int64\n",
            "dtype: object\n",
            "\n",
            "\n",
            "Data types in minuteSleep_merged.csv:\n",
            "Id        int64\n",
            "date     object\n",
            "value     int64\n",
            "logId     int64\n",
            "dtype: object\n",
            "\n",
            "\n",
            "Data types in hourlyIntensities_merged.csv:\n",
            "Id                    int64\n",
            "ActivityHour         object\n",
            "TotalIntensity        int64\n",
            "AverageIntensity    float64\n",
            "dtype: object\n",
            "\n",
            "\n",
            "Data types in hourlyCalories_merged.csv:\n",
            "Id               int64\n",
            "ActivityHour    object\n",
            "Calories         int64\n",
            "dtype: object\n",
            "\n",
            "\n",
            "Data types in minuteStepsNarrow_merged.csv:\n",
            "Id                 int64\n",
            "ActivityMinute    object\n",
            "Steps              int64\n",
            "dtype: object\n",
            "\n",
            "\n",
            "Data types in hourlySteps_merged.csv:\n",
            "Id               int64\n",
            "ActivityHour    object\n",
            "StepTotal        int64\n",
            "dtype: object\n",
            "\n",
            "\n",
            "Data types in dailyActivity_merged.csv:\n",
            "Id                            int64\n",
            "ActivityDate                 object\n",
            "TotalSteps                    int64\n",
            "TotalDistance               float64\n",
            "TrackerDistance             float64\n",
            "LoggedActivitiesDistance    float64\n",
            "VeryActiveDistance          float64\n",
            "ModeratelyActiveDistance    float64\n",
            "LightActiveDistance         float64\n",
            "SedentaryActiveDistance     float64\n",
            "VeryActiveMinutes             int64\n",
            "FairlyActiveMinutes           int64\n",
            "LightlyActiveMinutes          int64\n",
            "SedentaryMinutes              int64\n",
            "Calories                      int64\n",
            "dtype: object\n",
            "\n",
            "\n",
            "Data types in minuteStepsWide_merged.csv:\n",
            "Id               int64\n",
            "ActivityHour    object\n",
            "Steps00          int64\n",
            "Steps01          int64\n",
            "Steps02          int64\n",
            "                 ...  \n",
            "Steps55          int64\n",
            "Steps56          int64\n",
            "Steps57          int64\n",
            "Steps58          int64\n",
            "Steps59          int64\n",
            "Length: 62, dtype: object\n",
            "\n",
            "\n",
            "Data types in dailySteps_merged.csv:\n",
            "Id              int64\n",
            "ActivityDay    object\n",
            "StepTotal       int64\n",
            "dtype: object\n",
            "\n",
            "\n",
            "Data types in minuteCaloriesWide_merged.csv:\n",
            "Id                int64\n",
            "ActivityHour     object\n",
            "Calories00      float64\n",
            "Calories01      float64\n",
            "Calories02      float64\n",
            "                 ...   \n",
            "Calories55      float64\n",
            "Calories56      float64\n",
            "Calories57      float64\n",
            "Calories58      float64\n",
            "Calories59      float64\n",
            "Length: 62, dtype: object\n",
            "\n",
            "\n",
            "Data types in heartrate_seconds_merged.csv:\n",
            "Id        int64\n",
            "Time     object\n",
            "Value     int64\n",
            "dtype: object\n",
            "\n",
            "\n",
            "Data types in weightLogInfo_merged.csv:\n",
            "Id                  int64\n",
            "Date               object\n",
            "WeightKg          float64\n",
            "WeightPounds      float64\n",
            "Fat               float64\n",
            "BMI               float64\n",
            "IsManualReport       bool\n",
            "LogId               int64\n",
            "dtype: object\n",
            "\n",
            "\n",
            "Data types in sleepDay_merged.csv:\n",
            "Id                     int64\n",
            "SleepDay              object\n",
            "TotalSleepRecords      int64\n",
            "TotalMinutesAsleep     int64\n",
            "TotalTimeInBed         int64\n",
            "dtype: object\n",
            "\n",
            "\n",
            "Data types in dailyCalories_merged.csv:\n",
            "Id              int64\n",
            "ActivityDay    object\n",
            "Calories        int64\n",
            "dtype: object\n",
            "\n",
            "\n",
            "Data types in minuteCaloriesNarrow_merged.csv:\n",
            "Id                  int64\n",
            "ActivityMinute     object\n",
            "Calories          float64\n",
            "dtype: object\n",
            "\n",
            "\n",
            "Data types in dailyIntensities_merged.csv:\n",
            "Id                            int64\n",
            "ActivityDay                  object\n",
            "SedentaryMinutes              int64\n",
            "LightlyActiveMinutes          int64\n",
            "FairlyActiveMinutes           int64\n",
            "VeryActiveMinutes             int64\n",
            "SedentaryActiveDistance     float64\n",
            "LightActiveDistance         float64\n",
            "ModeratelyActiveDistance    float64\n",
            "VeryActiveDistance          float64\n",
            "dtype: object\n",
            "\n",
            "\n",
            "Data types in minuteIntensitiesWide_merged.csv:\n",
            "Id               int64\n",
            "ActivityHour    object\n",
            "Intensity00      int64\n",
            "Intensity01      int64\n",
            "Intensity02      int64\n",
            "                 ...  \n",
            "Intensity55      int64\n",
            "Intensity56      int64\n",
            "Intensity57      int64\n",
            "Intensity58      int64\n",
            "Intensity59      int64\n",
            "Length: 62, dtype: object\n",
            "\n",
            "\n"
          ]
        }
      ]
    },
    {
      "cell_type": "code",
      "source": [
        "for name, df in combined_dataframes.items():\n",
        "    if 'ActivityHour' in df.columns:\n",
        "        try:\n",
        "            df['ActivityHour'] = pd.to_datetime(df['ActivityHour'], format='%m/%d/%Y %I:%M:%S %p')\n",
        "        except ValueError:\n",
        "            df['ActivityHour'] = pd.to_datetime(df['ActivityHour'], errors='coerce')  # Coerce errors will turn failures into NaT\n",
        "\n",
        "    if 'SleepDay' in df.columns:\n",
        "        try:\n",
        "            df['SleepDay'] = pd.to_datetime(df['SleepDay'], format='%m/%d/%Y %I:%M:%S %p')\n",
        "        except ValueError:\n",
        "            df['SleepDay'] = pd.to_datetime(df['SleepDay'], errors='coerce')  # Coerce errors will turn failures into NaT\n",
        "\n",
        "    if 'ActivityDay' in df.columns:\n",
        "        try:\n",
        "            df['ActivityDay'] = pd.to_datetime(df['ActivityDay'], format='%m/%d/%Y %I:%M:%S %p')\n",
        "        except ValueError:\n",
        "            df['ActivityDay'] = pd.to_datetime(df['ActivityDay'], errors='coerce')  # Coerce errors will turn failures into NaT\n",
        "\n",
        "    # Converting 'ActivityDate' in 'dailyActivity_merged.csv'\n",
        "    if 'ActivityDate' in df.columns:\n",
        "        try:\n",
        "            df['ActivityDate'] = pd.to_datetime(df['ActivityDate'], format='%m/%d/%Y %I:%M:%S %p')\n",
        "        except ValueError:\n",
        "            df['ActivityDate'] = pd.to_datetime(df['ActivityDate'], errors='coerce')\n",
        "\n",
        "    # Converting 'Date' in 'weightLogInfo_merged.csv'\n",
        "    if 'Date' in df.columns:\n",
        "        try:\n",
        "            df['Date'] = pd.to_datetime(df['Date'], format='%m/%d/%Y %I:%M:%S %p')\n",
        "        except ValueError:\n",
        "            df['Date'] = pd.to_datetime(df['Date'], errors='coerce')\n",
        "\n",
        "    # Converting 'date' in 'minuteSleep_merged.csv'\n",
        "    if 'date' in df.columns:\n",
        "        try:\n",
        "            df['date'] = pd.to_datetime(df['date'], format='%m/%d/%Y %I:%M:%S %p')\n",
        "        except ValueError:\n",
        "            df['date'] = pd.to_datetime(df['date'], errors='coerce')\n",
        "\n",
        "    # Converting 'Time' in 'heartrate_seconds_merged.csv'\n",
        "    if 'Time' in df.columns:\n",
        "        try:\n",
        "            df['Time'] = pd.to_numeric(df['Time'])\n",
        "        except ValueError:\n",
        "            df['Time'] = pd.to_numeric(df['Time'], errors='coerce')\n",
        "\n",
        "    # Converting 'ActivityMinute' in 'minuteMETsNarrow_merged.csv'\n",
        "    if 'ActivityMinute' in df.columns:\n",
        "        try:\n",
        "            df['ActivityMinute'] = pd.to_numeric(df['ActivityMinute'])\n",
        "        except ValueError:\n",
        "            df['ActivityMinute'] = pd.to_numeric(df['ActivityMinute'], errors='coerce')"
      ],
      "metadata": {
        "id": "VrW5Udro57C6"
      },
      "execution_count": 12,
      "outputs": []
    },
    {
      "cell_type": "markdown",
      "source": [
        "Checking datatypes again"
      ],
      "metadata": {
        "id": "tBbzNaA09DRd"
      }
    },
    {
      "cell_type": "code",
      "source": [
        "for name, df in combined_dataframes.items():\n",
        "    print(f\"Updated data types for {name}:\")\n",
        "    print(df.dtypes)\n",
        "    print(\"\\n\")"
      ],
      "metadata": {
        "colab": {
          "base_uri": "https://localhost:8080/"
        },
        "id": "RbNUDC-VHjFJ",
        "outputId": "8cbe8c22-6193-4770-85ed-f3b82edf74ee"
      },
      "execution_count": 13,
      "outputs": [
        {
          "output_type": "stream",
          "name": "stdout",
          "text": [
            "Updated data types for minuteIntensitiesNarrow_merged.csv:\n",
            "Id                  int64\n",
            "ActivityMinute    float64\n",
            "Intensity           int64\n",
            "dtype: object\n",
            "\n",
            "\n",
            "Updated data types for minuteMETsNarrow_merged.csv:\n",
            "Id                  int64\n",
            "ActivityMinute    float64\n",
            "METs                int64\n",
            "dtype: object\n",
            "\n",
            "\n",
            "Updated data types for minuteSleep_merged.csv:\n",
            "Id                int64\n",
            "date     datetime64[ns]\n",
            "value             int64\n",
            "logId             int64\n",
            "dtype: object\n",
            "\n",
            "\n",
            "Updated data types for hourlyIntensities_merged.csv:\n",
            "Id                           int64\n",
            "ActivityHour        datetime64[ns]\n",
            "TotalIntensity               int64\n",
            "AverageIntensity           float64\n",
            "dtype: object\n",
            "\n",
            "\n",
            "Updated data types for hourlyCalories_merged.csv:\n",
            "Id                       int64\n",
            "ActivityHour    datetime64[ns]\n",
            "Calories                 int64\n",
            "dtype: object\n",
            "\n",
            "\n",
            "Updated data types for minuteStepsNarrow_merged.csv:\n",
            "Id                  int64\n",
            "ActivityMinute    float64\n",
            "Steps               int64\n",
            "dtype: object\n",
            "\n",
            "\n",
            "Updated data types for hourlySteps_merged.csv:\n",
            "Id                       int64\n",
            "ActivityHour    datetime64[ns]\n",
            "StepTotal                int64\n",
            "dtype: object\n",
            "\n",
            "\n",
            "Updated data types for dailyActivity_merged.csv:\n",
            "Id                                   int64\n",
            "ActivityDate                datetime64[ns]\n",
            "TotalSteps                           int64\n",
            "TotalDistance                      float64\n",
            "TrackerDistance                    float64\n",
            "LoggedActivitiesDistance           float64\n",
            "VeryActiveDistance                 float64\n",
            "ModeratelyActiveDistance           float64\n",
            "LightActiveDistance                float64\n",
            "SedentaryActiveDistance            float64\n",
            "VeryActiveMinutes                    int64\n",
            "FairlyActiveMinutes                  int64\n",
            "LightlyActiveMinutes                 int64\n",
            "SedentaryMinutes                     int64\n",
            "Calories                             int64\n",
            "dtype: object\n",
            "\n",
            "\n",
            "Updated data types for minuteStepsWide_merged.csv:\n",
            "Id                       int64\n",
            "ActivityHour    datetime64[ns]\n",
            "Steps00                  int64\n",
            "Steps01                  int64\n",
            "Steps02                  int64\n",
            "                     ...      \n",
            "Steps55                  int64\n",
            "Steps56                  int64\n",
            "Steps57                  int64\n",
            "Steps58                  int64\n",
            "Steps59                  int64\n",
            "Length: 62, dtype: object\n",
            "\n",
            "\n",
            "Updated data types for dailySteps_merged.csv:\n",
            "Id                      int64\n",
            "ActivityDay    datetime64[ns]\n",
            "StepTotal               int64\n",
            "dtype: object\n",
            "\n",
            "\n",
            "Updated data types for minuteCaloriesWide_merged.csv:\n",
            "Id                       int64\n",
            "ActivityHour    datetime64[ns]\n",
            "Calories00             float64\n",
            "Calories01             float64\n",
            "Calories02             float64\n",
            "                     ...      \n",
            "Calories55             float64\n",
            "Calories56             float64\n",
            "Calories57             float64\n",
            "Calories58             float64\n",
            "Calories59             float64\n",
            "Length: 62, dtype: object\n",
            "\n",
            "\n",
            "Updated data types for heartrate_seconds_merged.csv:\n",
            "Id         int64\n",
            "Time     float64\n",
            "Value      int64\n",
            "dtype: object\n",
            "\n",
            "\n",
            "Updated data types for weightLogInfo_merged.csv:\n",
            "Id                         int64\n",
            "Date              datetime64[ns]\n",
            "WeightKg                 float64\n",
            "WeightPounds             float64\n",
            "Fat                      float64\n",
            "BMI                      float64\n",
            "IsManualReport              bool\n",
            "LogId                      int64\n",
            "dtype: object\n",
            "\n",
            "\n",
            "Updated data types for sleepDay_merged.csv:\n",
            "Id                             int64\n",
            "SleepDay              datetime64[ns]\n",
            "TotalSleepRecords              int64\n",
            "TotalMinutesAsleep             int64\n",
            "TotalTimeInBed                 int64\n",
            "dtype: object\n",
            "\n",
            "\n",
            "Updated data types for dailyCalories_merged.csv:\n",
            "Id                      int64\n",
            "ActivityDay    datetime64[ns]\n",
            "Calories                int64\n",
            "dtype: object\n",
            "\n",
            "\n",
            "Updated data types for minuteCaloriesNarrow_merged.csv:\n",
            "Id                  int64\n",
            "ActivityMinute    float64\n",
            "Calories          float64\n",
            "dtype: object\n",
            "\n",
            "\n",
            "Updated data types for dailyIntensities_merged.csv:\n",
            "Id                                   int64\n",
            "ActivityDay                 datetime64[ns]\n",
            "SedentaryMinutes                     int64\n",
            "LightlyActiveMinutes                 int64\n",
            "FairlyActiveMinutes                  int64\n",
            "VeryActiveMinutes                    int64\n",
            "SedentaryActiveDistance            float64\n",
            "LightActiveDistance                float64\n",
            "ModeratelyActiveDistance           float64\n",
            "VeryActiveDistance                 float64\n",
            "dtype: object\n",
            "\n",
            "\n",
            "Updated data types for minuteIntensitiesWide_merged.csv:\n",
            "Id                       int64\n",
            "ActivityHour    datetime64[ns]\n",
            "Intensity00              int64\n",
            "Intensity01              int64\n",
            "Intensity02              int64\n",
            "                     ...      \n",
            "Intensity55              int64\n",
            "Intensity56              int64\n",
            "Intensity57              int64\n",
            "Intensity58              int64\n",
            "Intensity59              int64\n",
            "Length: 62, dtype: object\n",
            "\n",
            "\n"
          ]
        }
      ]
    },
    {
      "cell_type": "markdown",
      "source": [
        "Checking number of participants in each dataset"
      ],
      "metadata": {
        "id": "0Fv8p7cmAAxn"
      }
    },
    {
      "cell_type": "code",
      "source": [
        "{\n",
        "    'sleep_day_df': sleep_day_df['Id'].nunique(),\n",
        "    'minute_sleep_df': minute_sleep_df['Id'].nunique(),\n",
        "    'daily_activity_df': daily_activity_df['Id'].nunique(),\n",
        "    'weight_log_df': weight_log_df['Id'].nunique()\n",
        "}"
      ],
      "metadata": {
        "colab": {
          "base_uri": "https://localhost:8080/"
        },
        "id": "LBy2RoCbADc8",
        "outputId": "c2fff9ba-9bed-44f0-8ee6-d1e08853dc57"
      },
      "execution_count": 14,
      "outputs": [
        {
          "output_type": "execute_result",
          "data": {
            "text/plain": [
              "{'sleep_day_df': 24,\n",
              " 'minute_sleep_df': 25,\n",
              " 'daily_activity_df': 35,\n",
              " 'weight_log_df': 13}"
            ]
          },
          "metadata": {},
          "execution_count": 14
        }
      ]
    },
    {
      "cell_type": "markdown",
      "source": [
        "Only 13 participants in the weight log dataset so not considering it for now"
      ],
      "metadata": {
        "id": "76UMit-jBjMw"
      }
    },
    {
      "cell_type": "markdown",
      "source": [
        "Renaming and reformatting necessary columns"
      ],
      "metadata": {
        "id": "9paMuC__DvS7"
      }
    },
    {
      "cell_type": "code",
      "source": [
        "daily_activity_df.rename(columns={'FairlyActiveMinutes': 'ModeratelyActive'}, inplace=True)\n",
        "daily_activity_df.rename(columns={'VeryActiveMinutes': 'VeryActive'}, inplace=True)\n",
        "daily_activity_df.rename(columns={'LightlyActiveMinutes': 'LightlyActive'}, inplace=True)\n",
        "daily_activity_df.rename(columns={'SedentaryMinutes': 'Inactive/Device not in use'}, inplace=True)\n",
        "daily_activity_df.head()\n",
        "#sleep_day_df.rename(columns={'SleepDay': 'ActivityDate'}, inplace=True)\n",
        "#sleep_day_df.head()"
      ],
      "metadata": {
        "colab": {
          "base_uri": "https://localhost:8080/",
          "height": 243
        },
        "collapsed": true,
        "id": "92NsPbSnDuQQ",
        "outputId": "ba807fc1-fabb-41fd-beb7-c914bbd2f838"
      },
      "execution_count": 15,
      "outputs": [
        {
          "output_type": "execute_result",
          "data": {
            "text/plain": [
              "           Id ActivityDate  TotalSteps  TotalDistance  TrackerDistance  \\\n",
              "0  1503960366   2016-03-25       11004           7.11             7.11   \n",
              "1  1503960366   2016-03-26       17609          11.55            11.55   \n",
              "2  1503960366   2016-03-27       12736           8.53             8.53   \n",
              "3  1503960366   2016-03-28       13231           8.93             8.93   \n",
              "4  1503960366   2016-03-29       12041           7.85             7.85   \n",
              "\n",
              "   LoggedActivitiesDistance  VeryActiveDistance  ModeratelyActiveDistance  \\\n",
              "0                       0.0                2.57                      0.46   \n",
              "1                       0.0                6.92                      0.73   \n",
              "2                       0.0                4.66                      0.16   \n",
              "3                       0.0                3.19                      0.79   \n",
              "4                       0.0                2.16                      1.09   \n",
              "\n",
              "   LightActiveDistance  SedentaryActiveDistance  VeryActive  ModeratelyActive  \\\n",
              "0                 4.07                      0.0          33                12   \n",
              "1                 3.91                      0.0          89                17   \n",
              "2                 3.71                      0.0          56                 5   \n",
              "3                 4.95                      0.0          39                20   \n",
              "4                 4.61                      0.0          28                28   \n",
              "\n",
              "   LightlyActive  Inactive/Device not in use  Calories  \n",
              "0            205                         804      1819  \n",
              "1            274                         588      2154  \n",
              "2            268                         605      1944  \n",
              "3            224                        1080      1932  \n",
              "4            243                         763      1886  "
            ],
            "text/html": [
              "\n",
              "  <div id=\"df-e082041d-d95f-4124-b411-90f5bc598996\" class=\"colab-df-container\">\n",
              "    <div>\n",
              "<style scoped>\n",
              "    .dataframe tbody tr th:only-of-type {\n",
              "        vertical-align: middle;\n",
              "    }\n",
              "\n",
              "    .dataframe tbody tr th {\n",
              "        vertical-align: top;\n",
              "    }\n",
              "\n",
              "    .dataframe thead th {\n",
              "        text-align: right;\n",
              "    }\n",
              "</style>\n",
              "<table border=\"1\" class=\"dataframe\">\n",
              "  <thead>\n",
              "    <tr style=\"text-align: right;\">\n",
              "      <th></th>\n",
              "      <th>Id</th>\n",
              "      <th>ActivityDate</th>\n",
              "      <th>TotalSteps</th>\n",
              "      <th>TotalDistance</th>\n",
              "      <th>TrackerDistance</th>\n",
              "      <th>LoggedActivitiesDistance</th>\n",
              "      <th>VeryActiveDistance</th>\n",
              "      <th>ModeratelyActiveDistance</th>\n",
              "      <th>LightActiveDistance</th>\n",
              "      <th>SedentaryActiveDistance</th>\n",
              "      <th>VeryActive</th>\n",
              "      <th>ModeratelyActive</th>\n",
              "      <th>LightlyActive</th>\n",
              "      <th>Inactive/Device not in use</th>\n",
              "      <th>Calories</th>\n",
              "    </tr>\n",
              "  </thead>\n",
              "  <tbody>\n",
              "    <tr>\n",
              "      <th>0</th>\n",
              "      <td>1503960366</td>\n",
              "      <td>2016-03-25</td>\n",
              "      <td>11004</td>\n",
              "      <td>7.11</td>\n",
              "      <td>7.11</td>\n",
              "      <td>0.0</td>\n",
              "      <td>2.57</td>\n",
              "      <td>0.46</td>\n",
              "      <td>4.07</td>\n",
              "      <td>0.0</td>\n",
              "      <td>33</td>\n",
              "      <td>12</td>\n",
              "      <td>205</td>\n",
              "      <td>804</td>\n",
              "      <td>1819</td>\n",
              "    </tr>\n",
              "    <tr>\n",
              "      <th>1</th>\n",
              "      <td>1503960366</td>\n",
              "      <td>2016-03-26</td>\n",
              "      <td>17609</td>\n",
              "      <td>11.55</td>\n",
              "      <td>11.55</td>\n",
              "      <td>0.0</td>\n",
              "      <td>6.92</td>\n",
              "      <td>0.73</td>\n",
              "      <td>3.91</td>\n",
              "      <td>0.0</td>\n",
              "      <td>89</td>\n",
              "      <td>17</td>\n",
              "      <td>274</td>\n",
              "      <td>588</td>\n",
              "      <td>2154</td>\n",
              "    </tr>\n",
              "    <tr>\n",
              "      <th>2</th>\n",
              "      <td>1503960366</td>\n",
              "      <td>2016-03-27</td>\n",
              "      <td>12736</td>\n",
              "      <td>8.53</td>\n",
              "      <td>8.53</td>\n",
              "      <td>0.0</td>\n",
              "      <td>4.66</td>\n",
              "      <td>0.16</td>\n",
              "      <td>3.71</td>\n",
              "      <td>0.0</td>\n",
              "      <td>56</td>\n",
              "      <td>5</td>\n",
              "      <td>268</td>\n",
              "      <td>605</td>\n",
              "      <td>1944</td>\n",
              "    </tr>\n",
              "    <tr>\n",
              "      <th>3</th>\n",
              "      <td>1503960366</td>\n",
              "      <td>2016-03-28</td>\n",
              "      <td>13231</td>\n",
              "      <td>8.93</td>\n",
              "      <td>8.93</td>\n",
              "      <td>0.0</td>\n",
              "      <td>3.19</td>\n",
              "      <td>0.79</td>\n",
              "      <td>4.95</td>\n",
              "      <td>0.0</td>\n",
              "      <td>39</td>\n",
              "      <td>20</td>\n",
              "      <td>224</td>\n",
              "      <td>1080</td>\n",
              "      <td>1932</td>\n",
              "    </tr>\n",
              "    <tr>\n",
              "      <th>4</th>\n",
              "      <td>1503960366</td>\n",
              "      <td>2016-03-29</td>\n",
              "      <td>12041</td>\n",
              "      <td>7.85</td>\n",
              "      <td>7.85</td>\n",
              "      <td>0.0</td>\n",
              "      <td>2.16</td>\n",
              "      <td>1.09</td>\n",
              "      <td>4.61</td>\n",
              "      <td>0.0</td>\n",
              "      <td>28</td>\n",
              "      <td>28</td>\n",
              "      <td>243</td>\n",
              "      <td>763</td>\n",
              "      <td>1886</td>\n",
              "    </tr>\n",
              "  </tbody>\n",
              "</table>\n",
              "</div>\n",
              "    <div class=\"colab-df-buttons\">\n",
              "\n",
              "  <div class=\"colab-df-container\">\n",
              "    <button class=\"colab-df-convert\" onclick=\"convertToInteractive('df-e082041d-d95f-4124-b411-90f5bc598996')\"\n",
              "            title=\"Convert this dataframe to an interactive table.\"\n",
              "            style=\"display:none;\">\n",
              "\n",
              "  <svg xmlns=\"http://www.w3.org/2000/svg\" height=\"24px\" viewBox=\"0 -960 960 960\">\n",
              "    <path d=\"M120-120v-720h720v720H120Zm60-500h600v-160H180v160Zm220 220h160v-160H400v160Zm0 220h160v-160H400v160ZM180-400h160v-160H180v160Zm440 0h160v-160H620v160ZM180-180h160v-160H180v160Zm440 0h160v-160H620v160Z\"/>\n",
              "  </svg>\n",
              "    </button>\n",
              "\n",
              "  <style>\n",
              "    .colab-df-container {\n",
              "      display:flex;\n",
              "      gap: 12px;\n",
              "    }\n",
              "\n",
              "    .colab-df-convert {\n",
              "      background-color: #E8F0FE;\n",
              "      border: none;\n",
              "      border-radius: 50%;\n",
              "      cursor: pointer;\n",
              "      display: none;\n",
              "      fill: #1967D2;\n",
              "      height: 32px;\n",
              "      padding: 0 0 0 0;\n",
              "      width: 32px;\n",
              "    }\n",
              "\n",
              "    .colab-df-convert:hover {\n",
              "      background-color: #E2EBFA;\n",
              "      box-shadow: 0px 1px 2px rgba(60, 64, 67, 0.3), 0px 1px 3px 1px rgba(60, 64, 67, 0.15);\n",
              "      fill: #174EA6;\n",
              "    }\n",
              "\n",
              "    .colab-df-buttons div {\n",
              "      margin-bottom: 4px;\n",
              "    }\n",
              "\n",
              "    [theme=dark] .colab-df-convert {\n",
              "      background-color: #3B4455;\n",
              "      fill: #D2E3FC;\n",
              "    }\n",
              "\n",
              "    [theme=dark] .colab-df-convert:hover {\n",
              "      background-color: #434B5C;\n",
              "      box-shadow: 0px 1px 3px 1px rgba(0, 0, 0, 0.15);\n",
              "      filter: drop-shadow(0px 1px 2px rgba(0, 0, 0, 0.3));\n",
              "      fill: #FFFFFF;\n",
              "    }\n",
              "  </style>\n",
              "\n",
              "    <script>\n",
              "      const buttonEl =\n",
              "        document.querySelector('#df-e082041d-d95f-4124-b411-90f5bc598996 button.colab-df-convert');\n",
              "      buttonEl.style.display =\n",
              "        google.colab.kernel.accessAllowed ? 'block' : 'none';\n",
              "\n",
              "      async function convertToInteractive(key) {\n",
              "        const element = document.querySelector('#df-e082041d-d95f-4124-b411-90f5bc598996');\n",
              "        const dataTable =\n",
              "          await google.colab.kernel.invokeFunction('convertToInteractive',\n",
              "                                                    [key], {});\n",
              "        if (!dataTable) return;\n",
              "\n",
              "        const docLinkHtml = 'Like what you see? Visit the ' +\n",
              "          '<a target=\"_blank\" href=https://colab.research.google.com/notebooks/data_table.ipynb>data table notebook</a>'\n",
              "          + ' to learn more about interactive tables.';\n",
              "        element.innerHTML = '';\n",
              "        dataTable['output_type'] = 'display_data';\n",
              "        await google.colab.output.renderOutput(dataTable, element);\n",
              "        const docLink = document.createElement('div');\n",
              "        docLink.innerHTML = docLinkHtml;\n",
              "        element.appendChild(docLink);\n",
              "      }\n",
              "    </script>\n",
              "  </div>\n",
              "\n",
              "\n",
              "    <div id=\"df-dbbbfc0b-f32d-440e-8b21-4e1524581624\">\n",
              "      <button class=\"colab-df-quickchart\" onclick=\"quickchart('df-dbbbfc0b-f32d-440e-8b21-4e1524581624')\"\n",
              "                title=\"Suggest charts\"\n",
              "                style=\"display:none;\">\n",
              "\n",
              "<svg xmlns=\"http://www.w3.org/2000/svg\" height=\"24px\"viewBox=\"0 0 24 24\"\n",
              "     width=\"24px\">\n",
              "    <g>\n",
              "        <path d=\"M19 3H5c-1.1 0-2 .9-2 2v14c0 1.1.9 2 2 2h14c1.1 0 2-.9 2-2V5c0-1.1-.9-2-2-2zM9 17H7v-7h2v7zm4 0h-2V7h2v10zm4 0h-2v-4h2v4z\"/>\n",
              "    </g>\n",
              "</svg>\n",
              "      </button>\n",
              "\n",
              "<style>\n",
              "  .colab-df-quickchart {\n",
              "      --bg-color: #E8F0FE;\n",
              "      --fill-color: #1967D2;\n",
              "      --hover-bg-color: #E2EBFA;\n",
              "      --hover-fill-color: #174EA6;\n",
              "      --disabled-fill-color: #AAA;\n",
              "      --disabled-bg-color: #DDD;\n",
              "  }\n",
              "\n",
              "  [theme=dark] .colab-df-quickchart {\n",
              "      --bg-color: #3B4455;\n",
              "      --fill-color: #D2E3FC;\n",
              "      --hover-bg-color: #434B5C;\n",
              "      --hover-fill-color: #FFFFFF;\n",
              "      --disabled-bg-color: #3B4455;\n",
              "      --disabled-fill-color: #666;\n",
              "  }\n",
              "\n",
              "  .colab-df-quickchart {\n",
              "    background-color: var(--bg-color);\n",
              "    border: none;\n",
              "    border-radius: 50%;\n",
              "    cursor: pointer;\n",
              "    display: none;\n",
              "    fill: var(--fill-color);\n",
              "    height: 32px;\n",
              "    padding: 0;\n",
              "    width: 32px;\n",
              "  }\n",
              "\n",
              "  .colab-df-quickchart:hover {\n",
              "    background-color: var(--hover-bg-color);\n",
              "    box-shadow: 0 1px 2px rgba(60, 64, 67, 0.3), 0 1px 3px 1px rgba(60, 64, 67, 0.15);\n",
              "    fill: var(--button-hover-fill-color);\n",
              "  }\n",
              "\n",
              "  .colab-df-quickchart-complete:disabled,\n",
              "  .colab-df-quickchart-complete:disabled:hover {\n",
              "    background-color: var(--disabled-bg-color);\n",
              "    fill: var(--disabled-fill-color);\n",
              "    box-shadow: none;\n",
              "  }\n",
              "\n",
              "  .colab-df-spinner {\n",
              "    border: 2px solid var(--fill-color);\n",
              "    border-color: transparent;\n",
              "    border-bottom-color: var(--fill-color);\n",
              "    animation:\n",
              "      spin 1s steps(1) infinite;\n",
              "  }\n",
              "\n",
              "  @keyframes spin {\n",
              "    0% {\n",
              "      border-color: transparent;\n",
              "      border-bottom-color: var(--fill-color);\n",
              "      border-left-color: var(--fill-color);\n",
              "    }\n",
              "    20% {\n",
              "      border-color: transparent;\n",
              "      border-left-color: var(--fill-color);\n",
              "      border-top-color: var(--fill-color);\n",
              "    }\n",
              "    30% {\n",
              "      border-color: transparent;\n",
              "      border-left-color: var(--fill-color);\n",
              "      border-top-color: var(--fill-color);\n",
              "      border-right-color: var(--fill-color);\n",
              "    }\n",
              "    40% {\n",
              "      border-color: transparent;\n",
              "      border-right-color: var(--fill-color);\n",
              "      border-top-color: var(--fill-color);\n",
              "    }\n",
              "    60% {\n",
              "      border-color: transparent;\n",
              "      border-right-color: var(--fill-color);\n",
              "    }\n",
              "    80% {\n",
              "      border-color: transparent;\n",
              "      border-right-color: var(--fill-color);\n",
              "      border-bottom-color: var(--fill-color);\n",
              "    }\n",
              "    90% {\n",
              "      border-color: transparent;\n",
              "      border-bottom-color: var(--fill-color);\n",
              "    }\n",
              "  }\n",
              "</style>\n",
              "\n",
              "      <script>\n",
              "        async function quickchart(key) {\n",
              "          const quickchartButtonEl =\n",
              "            document.querySelector('#' + key + ' button');\n",
              "          quickchartButtonEl.disabled = true;  // To prevent multiple clicks.\n",
              "          quickchartButtonEl.classList.add('colab-df-spinner');\n",
              "          try {\n",
              "            const charts = await google.colab.kernel.invokeFunction(\n",
              "                'suggestCharts', [key], {});\n",
              "          } catch (error) {\n",
              "            console.error('Error during call to suggestCharts:', error);\n",
              "          }\n",
              "          quickchartButtonEl.classList.remove('colab-df-spinner');\n",
              "          quickchartButtonEl.classList.add('colab-df-quickchart-complete');\n",
              "        }\n",
              "        (() => {\n",
              "          let quickchartButtonEl =\n",
              "            document.querySelector('#df-dbbbfc0b-f32d-440e-8b21-4e1524581624 button');\n",
              "          quickchartButtonEl.style.display =\n",
              "            google.colab.kernel.accessAllowed ? 'block' : 'none';\n",
              "        })();\n",
              "      </script>\n",
              "    </div>\n",
              "\n",
              "    </div>\n",
              "  </div>\n"
            ],
            "application/vnd.google.colaboratory.intrinsic+json": {
              "type": "dataframe",
              "summary": "{\n  \"name\": \"#sleep_day_df\",\n  \"rows\": 5,\n  \"fields\": [\n    {\n      \"column\": \"Id\",\n      \"properties\": {\n        \"dtype\": \"number\",\n        \"std\": 0,\n        \"min\": 1503960366,\n        \"max\": 1503960366,\n        \"num_unique_values\": 1,\n        \"samples\": [\n          1503960366\n        ],\n        \"semantic_type\": \"\",\n        \"description\": \"\"\n      }\n    },\n    {\n      \"column\": \"ActivityDate\",\n      \"properties\": {\n        \"dtype\": \"date\",\n        \"min\": \"2016-03-25 00:00:00\",\n        \"max\": \"2016-03-29 00:00:00\",\n        \"num_unique_values\": 5,\n        \"samples\": [\n          \"2016-03-26 00:00:00\"\n        ],\n        \"semantic_type\": \"\",\n        \"description\": \"\"\n      }\n    },\n    {\n      \"column\": \"TotalSteps\",\n      \"properties\": {\n        \"dtype\": \"number\",\n        \"std\": 2536,\n        \"min\": 11004,\n        \"max\": 17609,\n        \"num_unique_values\": 5,\n        \"samples\": [\n          17609\n        ],\n        \"semantic_type\": \"\",\n        \"description\": \"\"\n      }\n    },\n    {\n      \"column\": \"TotalDistance\",\n      \"properties\": {\n        \"dtype\": \"number\",\n        \"std\": 1.6889879370282088,\n        \"min\": 7.1100001335144,\n        \"max\": 11.5500001907349,\n        \"num_unique_values\": 5,\n        \"samples\": [\n          11.5500001907349\n        ],\n        \"semantic_type\": \"\",\n        \"description\": \"\"\n      }\n    },\n    {\n      \"column\": \"TrackerDistance\",\n      \"properties\": {\n        \"dtype\": \"number\",\n        \"std\": 1.6889879370282088,\n        \"min\": 7.1100001335144,\n        \"max\": 11.5500001907349,\n        \"num_unique_values\": 5,\n        \"samples\": [\n          11.5500001907349\n        ],\n        \"semantic_type\": \"\",\n        \"description\": \"\"\n      }\n    },\n    {\n      \"column\": \"LoggedActivitiesDistance\",\n      \"properties\": {\n        \"dtype\": \"number\",\n        \"std\": 0.0,\n        \"min\": 0.0,\n        \"max\": 0.0,\n        \"num_unique_values\": 1,\n        \"samples\": [\n          0.0\n        ],\n        \"semantic_type\": \"\",\n        \"description\": \"\"\n      }\n    },\n    {\n      \"column\": \"VeryActiveDistance\",\n      \"properties\": {\n        \"dtype\": \"number\",\n        \"std\": 1.9364013030950098,\n        \"min\": 2.16000008583069,\n        \"max\": 6.92000007629395,\n        \"num_unique_values\": 5,\n        \"samples\": [\n          6.92000007629395\n        ],\n        \"semantic_type\": \"\",\n        \"description\": \"\"\n      }\n    },\n    {\n      \"column\": \"ModeratelyActiveDistance\",\n      \"properties\": {\n        \"dtype\": \"number\",\n        \"std\": 0.3520369438696336,\n        \"min\": 0.159999996423721,\n        \"max\": 1.0900000333786,\n        \"num_unique_values\": 5,\n        \"samples\": [\n          0.730000019073486\n        ],\n        \"semantic_type\": \"\",\n        \"description\": \"\"\n      }\n    },\n    {\n      \"column\": \"LightActiveDistance\",\n      \"properties\": {\n        \"dtype\": \"number\",\n        \"std\": 0.5145871325004037,\n        \"min\": 3.71000003814697,\n        \"max\": 4.94999980926514,\n        \"num_unique_values\": 5,\n        \"samples\": [\n          3.91000008583069\n        ],\n        \"semantic_type\": \"\",\n        \"description\": \"\"\n      }\n    },\n    {\n      \"column\": \"SedentaryActiveDistance\",\n      \"properties\": {\n        \"dtype\": \"number\",\n        \"std\": 0.0,\n        \"min\": 0.0,\n        \"max\": 0.0,\n        \"num_unique_values\": 1,\n        \"samples\": [\n          0.0\n        ],\n        \"semantic_type\": \"\",\n        \"description\": \"\"\n      }\n    },\n    {\n      \"column\": \"VeryActive\",\n      \"properties\": {\n        \"dtype\": \"number\",\n        \"std\": 24,\n        \"min\": 28,\n        \"max\": 89,\n        \"num_unique_values\": 5,\n        \"samples\": [\n          89\n        ],\n        \"semantic_type\": \"\",\n        \"description\": \"\"\n      }\n    },\n    {\n      \"column\": \"ModeratelyActive\",\n      \"properties\": {\n        \"dtype\": \"number\",\n        \"std\": 8,\n        \"min\": 5,\n        \"max\": 28,\n        \"num_unique_values\": 5,\n        \"samples\": [\n          17\n        ],\n        \"semantic_type\": \"\",\n        \"description\": \"\"\n      }\n    },\n    {\n      \"column\": \"LightlyActive\",\n      \"properties\": {\n        \"dtype\": \"number\",\n        \"std\": 29,\n        \"min\": 205,\n        \"max\": 274,\n        \"num_unique_values\": 5,\n        \"samples\": [\n          274\n        ],\n        \"semantic_type\": \"\",\n        \"description\": \"\"\n      }\n    },\n    {\n      \"column\": \"Inactive/Device not in use\",\n      \"properties\": {\n        \"dtype\": \"number\",\n        \"std\": 198,\n        \"min\": 588,\n        \"max\": 1080,\n        \"num_unique_values\": 5,\n        \"samples\": [\n          588\n        ],\n        \"semantic_type\": \"\",\n        \"description\": \"\"\n      }\n    },\n    {\n      \"column\": \"Calories\",\n      \"properties\": {\n        \"dtype\": \"number\",\n        \"std\": 125,\n        \"min\": 1819,\n        \"max\": 2154,\n        \"num_unique_values\": 5,\n        \"samples\": [\n          2154\n        ],\n        \"semantic_type\": \"\",\n        \"description\": \"\"\n      }\n    }\n  ]\n}"
            }
          },
          "metadata": {},
          "execution_count": 15
        }
      ]
    },
    {
      "cell_type": "markdown",
      "source": [
        "CONVERSION OF MINS TO HOURS FOR BETTER UNDERSTANDING"
      ],
      "metadata": {
        "id": "R7AVt43bFlqT"
      }
    },
    {
      "cell_type": "code",
      "source": [
        "sleep_day_df['TotalMinutesAsleep'] = sleep_day_df['TotalMinutesAsleep'] / 60\n",
        "sleep_day_df['TotalTimeInBed'] = sleep_day_df['TotalTimeInBed'] / 60"
      ],
      "metadata": {
        "id": "_cbh3z5_Fjpt"
      },
      "execution_count": 16,
      "outputs": []
    },
    {
      "cell_type": "markdown",
      "source": [
        "Pairwise correlation to see how each of these columns are correlated"
      ],
      "metadata": {
        "id": "ISoSuxE6IsGu"
      }
    },
    {
      "cell_type": "markdown",
      "source": [
        "Filtering data for only April 12 to May 12th as sleep data is only from april and so to bring uniformity for our analysis"
      ],
      "metadata": {
        "id": "sCDzrF_1SW9f"
      }
    },
    {
      "cell_type": "code",
      "source": [
        "common_ids = set(daily_activity_df['Id']).intersection(set(sleep_day_df['Id']))\n",
        "#, set(weight_log_df['Id']))\n",
        "print(f\"Common IDs across all datasets: {common_ids}\")\n",
        "\n",
        "# Filter each dataset to only include common IDs\n",
        "common_activity = daily_activity_df[daily_activity_df['Id'].isin(common_ids)]\n",
        "common_sleep = sleep_day_df[sleep_day_df['Id'].isin(common_ids)]\n",
        "#common_weight = weight_log_df[weight_log_df['Id'].isin(common_ids)]\n",
        "\n",
        "# Print out date ranges for these filtered datasets\n",
        "print(\"Activity Date Range:\", common_activity['ActivityDate'].min(), common_activity['ActivityDate'].max())\n",
        "print(\"Sleep Date Range:\", common_sleep['SleepDay'].min(), common_sleep['SleepDay'].max())\n",
        "#print(\"Weight Date Range:\", common_weight['Date'].min(), common_weight['Date'].max())\n",
        "\n",
        "\n",
        "# Filter data to common date range\n",
        "#start_date = '2016-04-12'\n",
        "#end_date = '2016-05-12'\n",
        "\n",
        "# Using left join initially to see the output\n",
        "test_merge = pd.merge(daily_activity_df, sleep_day_df, how='left', left_on=['Id', 'ActivityDate'], right_on=['Id', 'SleepDay'])\n",
        "#test_merge = pd.merge(test_merge, weight_log_df, how='left', left_on=['Id', 'ActivityDate'], right_on=['Id', 'Date'])\n",
        "\n",
        "# Check how many rows are filled\n",
        "print(test_merge.info())\n"
      ],
      "metadata": {
        "colab": {
          "base_uri": "https://localhost:8080/"
        },
        "collapsed": true,
        "id": "Ea0rmi9jkwlg",
        "outputId": "765e001f-565a-4d68-ee0d-cded43c43dc2"
      },
      "execution_count": 17,
      "outputs": [
        {
          "output_type": "stream",
          "name": "stdout",
          "text": [
            "Common IDs across all datasets: {8053475328, 1644430081, 8378563200, 4558609924, 4319703577, 2320127002, 2026352035, 7007744171, 1503960366, 2347167796, 1927972279, 4388161847, 6775888955, 8792009665, 5553957443, 7086361926, 6962181067, 3977333714, 4702921684, 5577150313, 4020332650, 4445114986, 1844505072, 6117666160}\n",
            "Activity Date Range: 2016-03-12 00:00:00 2016-05-12 00:00:00\n",
            "Sleep Date Range: 2016-04-12 00:00:00 2016-05-12 00:00:00\n",
            "<class 'pandas.core.frame.DataFrame'>\n",
            "RangeIndex: 1400 entries, 0 to 1399\n",
            "Data columns (total 19 columns):\n",
            " #   Column                      Non-Null Count  Dtype         \n",
            "---  ------                      --------------  -----         \n",
            " 0   Id                          1400 non-null   int64         \n",
            " 1   ActivityDate                1400 non-null   datetime64[ns]\n",
            " 2   TotalSteps                  1400 non-null   int64         \n",
            " 3   TotalDistance               1400 non-null   float64       \n",
            " 4   TrackerDistance             1400 non-null   float64       \n",
            " 5   LoggedActivitiesDistance    1400 non-null   float64       \n",
            " 6   VeryActiveDistance          1400 non-null   float64       \n",
            " 7   ModeratelyActiveDistance    1400 non-null   float64       \n",
            " 8   LightActiveDistance         1400 non-null   float64       \n",
            " 9   SedentaryActiveDistance     1400 non-null   float64       \n",
            " 10  VeryActive                  1400 non-null   int64         \n",
            " 11  ModeratelyActive            1400 non-null   int64         \n",
            " 12  LightlyActive               1400 non-null   int64         \n",
            " 13  Inactive/Device not in use  1400 non-null   int64         \n",
            " 14  Calories                    1400 non-null   int64         \n",
            " 15  SleepDay                    425 non-null    datetime64[ns]\n",
            " 16  TotalSleepRecords           425 non-null    float64       \n",
            " 17  TotalMinutesAsleep          425 non-null    float64       \n",
            " 18  TotalTimeInBed              425 non-null    float64       \n",
            "dtypes: datetime64[ns](2), float64(10), int64(7)\n",
            "memory usage: 207.9 KB\n",
            "None\n"
          ]
        }
      ]
    },
    {
      "cell_type": "markdown",
      "source": [
        "In order to better understand sleep habits of fitbit users; lets divide them into 4 groups based on which defines the optimal sleep between 7-9 hrs\n",
        "\n",
        "excess >9hrs ; good 7-9 hrs; Deprived <7hrs"
      ],
      "metadata": {
        "id": "YlBbbVEkU-Zy"
      }
    },
    {
      "cell_type": "code",
      "source": [
        "# Ensure that 'TotalMinutesAsleep' is in hours if not already converted\n",
        "sleep_day_df['hours'] = sleep_day_df['TotalMinutesAsleep']  # Assuming TotalMinutesAsleep has already been converted to hours\n",
        "\n",
        "# Creating bins for the 'hours' of sleep\n",
        "bins = [sleep_day_df['hours'].min(), 7, 9, sleep_day_df['hours'].max()]\n",
        "labels = ['deprived', 'good', 'excess']\n",
        "\n",
        "# Categorizing sleep data into bins\n",
        "sleep_day_df['SleepBins'] = pd.cut(sleep_day_df['hours'],\n",
        "                                   bins=bins,\n",
        "                                   labels=labels,\n",
        "                                   include_lowest=True,\n",
        "                                   right=False)\n",
        "\n",
        "# Checking the first few entries of the new 'SleepBins' column\n",
        "print(sleep_day_df[['hours', 'SleepBins']])\n",
        "\n",
        "# Summary of the distribution of sleep categories\n",
        "print(sleep_day_df['SleepBins'].value_counts())\n"
      ],
      "metadata": {
        "colab": {
          "base_uri": "https://localhost:8080/"
        },
        "collapsed": true,
        "id": "zp8iBWfOSquN",
        "outputId": "4c355e1a-5bf5-454f-de5d-5bacada2bca4"
      },
      "execution_count": 18,
      "outputs": [
        {
          "output_type": "stream",
          "name": "stdout",
          "text": [
            "         hours SleepBins\n",
            "0     5.450000  deprived\n",
            "1     6.400000  deprived\n",
            "2     6.866667  deprived\n",
            "3     5.666667  deprived\n",
            "4    11.666667    excess\n",
            "..         ...       ...\n",
            "408   5.716667  deprived\n",
            "409   8.383333      good\n",
            "410   6.916667  deprived\n",
            "411   8.600000      good\n",
            "412   7.316667      good\n",
            "\n",
            "[413 rows x 2 columns]\n",
            "SleepBins\n",
            "good        192\n",
            "deprived    182\n",
            "excess       38\n",
            "Name: count, dtype: int64\n"
          ]
        }
      ]
    },
    {
      "cell_type": "code",
      "source": [
        "import plotly.graph_objects as go\n",
        "\n",
        "# Prepare the data for the pie chart\n",
        "sleep_bins_count = sleep_day_df['SleepBins'].value_counts().reset_index()\n",
        "sleep_bins_count.columns = ['SleepBins', 'Count']\n",
        "\n",
        "# Create a 3D-like Pie Chart with light theme and colors\n",
        "fig = go.Figure()\n",
        "\n",
        "fig.add_trace(go.Pie(\n",
        "    labels=sleep_bins_count['SleepBins'],\n",
        "    values=sleep_bins_count['Count'],\n",
        "    hole=0.4,  # For a donut chart effect\n",
        "    pull=[0.1, 0, 0, 0],  # Emphasize the first slice\n",
        "    textinfo='label+percent',\n",
        "    insidetextorientation='radial',\n",
        "    marker=dict(\n",
        "        colors=['#ffcccb', '#d4e157', '#ffd700', '#00aaff'],  # Light pastel colors\n",
        "        line=dict(color='#FFFFFF', width=2)  # White borders for contrast\n",
        "    )\n",
        "))\n",
        "\n",
        "fig.update_traces(\n",
        "    hoverinfo='label+percent+value',\n",
        "    textfont_size=15,\n",
        "    textposition='inside'\n",
        ")\n",
        "\n",
        "fig.update_layout(\n",
        "    title=\"Distribution of Sleep Bins\",\n",
        "    template=\"plotly_white\",  # Light theme template\n",
        "    showlegend=True,\n",
        "    annotations=[dict(text='Sleep Bins', x=0.5, y=0.5, font_size=20, showarrow=False)]\n",
        ")\n",
        "\n",
        "fig.show()\n"
      ],
      "metadata": {
        "colab": {
          "base_uri": "https://localhost:8080/",
          "height": 542
        },
        "id": "GOiJBQ8Tj-uH",
        "outputId": "9e1c151e-7a34-4f82-d474-c6e7b94c2622"
      },
      "execution_count": 19,
      "outputs": [
        {
          "output_type": "display_data",
          "data": {
            "text/html": [
              "<html>\n",
              "<head><meta charset=\"utf-8\" /></head>\n",
              "<body>\n",
              "    <div>            <script src=\"https://cdnjs.cloudflare.com/ajax/libs/mathjax/2.7.5/MathJax.js?config=TeX-AMS-MML_SVG\"></script><script type=\"text/javascript\">if (window.MathJax && window.MathJax.Hub && window.MathJax.Hub.Config) {window.MathJax.Hub.Config({SVG: {font: \"STIX-Web\"}});}</script>                <script type=\"text/javascript\">window.PlotlyConfig = {MathJaxConfig: 'local'};</script>\n",
              "        <script charset=\"utf-8\" src=\"https://cdn.plot.ly/plotly-2.35.2.min.js\"></script>                <div id=\"bd89ffc6-b9f1-40a3-b598-98b300d5a2f7\" class=\"plotly-graph-div\" style=\"height:525px; width:100%;\"></div>            <script type=\"text/javascript\">                                    window.PLOTLYENV=window.PLOTLYENV || {};                                    if (document.getElementById(\"bd89ffc6-b9f1-40a3-b598-98b300d5a2f7\")) {                    Plotly.newPlot(                        \"bd89ffc6-b9f1-40a3-b598-98b300d5a2f7\",                        [{\"hole\":0.4,\"insidetextorientation\":\"radial\",\"labels\":[\"good\",\"deprived\",\"excess\"],\"marker\":{\"colors\":[\"#ffcccb\",\"#d4e157\",\"#ffd700\",\"#00aaff\"],\"line\":{\"color\":\"#FFFFFF\",\"width\":2}},\"pull\":[0.1,0,0,0],\"textinfo\":\"label+percent\",\"values\":[192,182,38],\"type\":\"pie\",\"textfont\":{\"size\":15},\"hoverinfo\":\"label+percent+value\",\"textposition\":\"inside\"}],                        {\"template\":{\"data\":{\"barpolar\":[{\"marker\":{\"line\":{\"color\":\"white\",\"width\":0.5},\"pattern\":{\"fillmode\":\"overlay\",\"size\":10,\"solidity\":0.2}},\"type\":\"barpolar\"}],\"bar\":[{\"error_x\":{\"color\":\"#2a3f5f\"},\"error_y\":{\"color\":\"#2a3f5f\"},\"marker\":{\"line\":{\"color\":\"white\",\"width\":0.5},\"pattern\":{\"fillmode\":\"overlay\",\"size\":10,\"solidity\":0.2}},\"type\":\"bar\"}],\"carpet\":[{\"aaxis\":{\"endlinecolor\":\"#2a3f5f\",\"gridcolor\":\"#C8D4E3\",\"linecolor\":\"#C8D4E3\",\"minorgridcolor\":\"#C8D4E3\",\"startlinecolor\":\"#2a3f5f\"},\"baxis\":{\"endlinecolor\":\"#2a3f5f\",\"gridcolor\":\"#C8D4E3\",\"linecolor\":\"#C8D4E3\",\"minorgridcolor\":\"#C8D4E3\",\"startlinecolor\":\"#2a3f5f\"},\"type\":\"carpet\"}],\"choropleth\":[{\"colorbar\":{\"outlinewidth\":0,\"ticks\":\"\"},\"type\":\"choropleth\"}],\"contourcarpet\":[{\"colorbar\":{\"outlinewidth\":0,\"ticks\":\"\"},\"type\":\"contourcarpet\"}],\"contour\":[{\"colorbar\":{\"outlinewidth\":0,\"ticks\":\"\"},\"colorscale\":[[0.0,\"#0d0887\"],[0.1111111111111111,\"#46039f\"],[0.2222222222222222,\"#7201a8\"],[0.3333333333333333,\"#9c179e\"],[0.4444444444444444,\"#bd3786\"],[0.5555555555555556,\"#d8576b\"],[0.6666666666666666,\"#ed7953\"],[0.7777777777777778,\"#fb9f3a\"],[0.8888888888888888,\"#fdca26\"],[1.0,\"#f0f921\"]],\"type\":\"contour\"}],\"heatmapgl\":[{\"colorbar\":{\"outlinewidth\":0,\"ticks\":\"\"},\"colorscale\":[[0.0,\"#0d0887\"],[0.1111111111111111,\"#46039f\"],[0.2222222222222222,\"#7201a8\"],[0.3333333333333333,\"#9c179e\"],[0.4444444444444444,\"#bd3786\"],[0.5555555555555556,\"#d8576b\"],[0.6666666666666666,\"#ed7953\"],[0.7777777777777778,\"#fb9f3a\"],[0.8888888888888888,\"#fdca26\"],[1.0,\"#f0f921\"]],\"type\":\"heatmapgl\"}],\"heatmap\":[{\"colorbar\":{\"outlinewidth\":0,\"ticks\":\"\"},\"colorscale\":[[0.0,\"#0d0887\"],[0.1111111111111111,\"#46039f\"],[0.2222222222222222,\"#7201a8\"],[0.3333333333333333,\"#9c179e\"],[0.4444444444444444,\"#bd3786\"],[0.5555555555555556,\"#d8576b\"],[0.6666666666666666,\"#ed7953\"],[0.7777777777777778,\"#fb9f3a\"],[0.8888888888888888,\"#fdca26\"],[1.0,\"#f0f921\"]],\"type\":\"heatmap\"}],\"histogram2dcontour\":[{\"colorbar\":{\"outlinewidth\":0,\"ticks\":\"\"},\"colorscale\":[[0.0,\"#0d0887\"],[0.1111111111111111,\"#46039f\"],[0.2222222222222222,\"#7201a8\"],[0.3333333333333333,\"#9c179e\"],[0.4444444444444444,\"#bd3786\"],[0.5555555555555556,\"#d8576b\"],[0.6666666666666666,\"#ed7953\"],[0.7777777777777778,\"#fb9f3a\"],[0.8888888888888888,\"#fdca26\"],[1.0,\"#f0f921\"]],\"type\":\"histogram2dcontour\"}],\"histogram2d\":[{\"colorbar\":{\"outlinewidth\":0,\"ticks\":\"\"},\"colorscale\":[[0.0,\"#0d0887\"],[0.1111111111111111,\"#46039f\"],[0.2222222222222222,\"#7201a8\"],[0.3333333333333333,\"#9c179e\"],[0.4444444444444444,\"#bd3786\"],[0.5555555555555556,\"#d8576b\"],[0.6666666666666666,\"#ed7953\"],[0.7777777777777778,\"#fb9f3a\"],[0.8888888888888888,\"#fdca26\"],[1.0,\"#f0f921\"]],\"type\":\"histogram2d\"}],\"histogram\":[{\"marker\":{\"pattern\":{\"fillmode\":\"overlay\",\"size\":10,\"solidity\":0.2}},\"type\":\"histogram\"}],\"mesh3d\":[{\"colorbar\":{\"outlinewidth\":0,\"ticks\":\"\"},\"type\":\"mesh3d\"}],\"parcoords\":[{\"line\":{\"colorbar\":{\"outlinewidth\":0,\"ticks\":\"\"}},\"type\":\"parcoords\"}],\"pie\":[{\"automargin\":true,\"type\":\"pie\"}],\"scatter3d\":[{\"line\":{\"colorbar\":{\"outlinewidth\":0,\"ticks\":\"\"}},\"marker\":{\"colorbar\":{\"outlinewidth\":0,\"ticks\":\"\"}},\"type\":\"scatter3d\"}],\"scattercarpet\":[{\"marker\":{\"colorbar\":{\"outlinewidth\":0,\"ticks\":\"\"}},\"type\":\"scattercarpet\"}],\"scattergeo\":[{\"marker\":{\"colorbar\":{\"outlinewidth\":0,\"ticks\":\"\"}},\"type\":\"scattergeo\"}],\"scattergl\":[{\"marker\":{\"colorbar\":{\"outlinewidth\":0,\"ticks\":\"\"}},\"type\":\"scattergl\"}],\"scattermapbox\":[{\"marker\":{\"colorbar\":{\"outlinewidth\":0,\"ticks\":\"\"}},\"type\":\"scattermapbox\"}],\"scatterpolargl\":[{\"marker\":{\"colorbar\":{\"outlinewidth\":0,\"ticks\":\"\"}},\"type\":\"scatterpolargl\"}],\"scatterpolar\":[{\"marker\":{\"colorbar\":{\"outlinewidth\":0,\"ticks\":\"\"}},\"type\":\"scatterpolar\"}],\"scatter\":[{\"fillpattern\":{\"fillmode\":\"overlay\",\"size\":10,\"solidity\":0.2},\"type\":\"scatter\"}],\"scatterternary\":[{\"marker\":{\"colorbar\":{\"outlinewidth\":0,\"ticks\":\"\"}},\"type\":\"scatterternary\"}],\"surface\":[{\"colorbar\":{\"outlinewidth\":0,\"ticks\":\"\"},\"colorscale\":[[0.0,\"#0d0887\"],[0.1111111111111111,\"#46039f\"],[0.2222222222222222,\"#7201a8\"],[0.3333333333333333,\"#9c179e\"],[0.4444444444444444,\"#bd3786\"],[0.5555555555555556,\"#d8576b\"],[0.6666666666666666,\"#ed7953\"],[0.7777777777777778,\"#fb9f3a\"],[0.8888888888888888,\"#fdca26\"],[1.0,\"#f0f921\"]],\"type\":\"surface\"}],\"table\":[{\"cells\":{\"fill\":{\"color\":\"#EBF0F8\"},\"line\":{\"color\":\"white\"}},\"header\":{\"fill\":{\"color\":\"#C8D4E3\"},\"line\":{\"color\":\"white\"}},\"type\":\"table\"}]},\"layout\":{\"annotationdefaults\":{\"arrowcolor\":\"#2a3f5f\",\"arrowhead\":0,\"arrowwidth\":1},\"autotypenumbers\":\"strict\",\"coloraxis\":{\"colorbar\":{\"outlinewidth\":0,\"ticks\":\"\"}},\"colorscale\":{\"diverging\":[[0,\"#8e0152\"],[0.1,\"#c51b7d\"],[0.2,\"#de77ae\"],[0.3,\"#f1b6da\"],[0.4,\"#fde0ef\"],[0.5,\"#f7f7f7\"],[0.6,\"#e6f5d0\"],[0.7,\"#b8e186\"],[0.8,\"#7fbc41\"],[0.9,\"#4d9221\"],[1,\"#276419\"]],\"sequential\":[[0.0,\"#0d0887\"],[0.1111111111111111,\"#46039f\"],[0.2222222222222222,\"#7201a8\"],[0.3333333333333333,\"#9c179e\"],[0.4444444444444444,\"#bd3786\"],[0.5555555555555556,\"#d8576b\"],[0.6666666666666666,\"#ed7953\"],[0.7777777777777778,\"#fb9f3a\"],[0.8888888888888888,\"#fdca26\"],[1.0,\"#f0f921\"]],\"sequentialminus\":[[0.0,\"#0d0887\"],[0.1111111111111111,\"#46039f\"],[0.2222222222222222,\"#7201a8\"],[0.3333333333333333,\"#9c179e\"],[0.4444444444444444,\"#bd3786\"],[0.5555555555555556,\"#d8576b\"],[0.6666666666666666,\"#ed7953\"],[0.7777777777777778,\"#fb9f3a\"],[0.8888888888888888,\"#fdca26\"],[1.0,\"#f0f921\"]]},\"colorway\":[\"#636efa\",\"#EF553B\",\"#00cc96\",\"#ab63fa\",\"#FFA15A\",\"#19d3f3\",\"#FF6692\",\"#B6E880\",\"#FF97FF\",\"#FECB52\"],\"font\":{\"color\":\"#2a3f5f\"},\"geo\":{\"bgcolor\":\"white\",\"lakecolor\":\"white\",\"landcolor\":\"white\",\"showlakes\":true,\"showland\":true,\"subunitcolor\":\"#C8D4E3\"},\"hoverlabel\":{\"align\":\"left\"},\"hovermode\":\"closest\",\"mapbox\":{\"style\":\"light\"},\"paper_bgcolor\":\"white\",\"plot_bgcolor\":\"white\",\"polar\":{\"angularaxis\":{\"gridcolor\":\"#EBF0F8\",\"linecolor\":\"#EBF0F8\",\"ticks\":\"\"},\"bgcolor\":\"white\",\"radialaxis\":{\"gridcolor\":\"#EBF0F8\",\"linecolor\":\"#EBF0F8\",\"ticks\":\"\"}},\"scene\":{\"xaxis\":{\"backgroundcolor\":\"white\",\"gridcolor\":\"#DFE8F3\",\"gridwidth\":2,\"linecolor\":\"#EBF0F8\",\"showbackground\":true,\"ticks\":\"\",\"zerolinecolor\":\"#EBF0F8\"},\"yaxis\":{\"backgroundcolor\":\"white\",\"gridcolor\":\"#DFE8F3\",\"gridwidth\":2,\"linecolor\":\"#EBF0F8\",\"showbackground\":true,\"ticks\":\"\",\"zerolinecolor\":\"#EBF0F8\"},\"zaxis\":{\"backgroundcolor\":\"white\",\"gridcolor\":\"#DFE8F3\",\"gridwidth\":2,\"linecolor\":\"#EBF0F8\",\"showbackground\":true,\"ticks\":\"\",\"zerolinecolor\":\"#EBF0F8\"}},\"shapedefaults\":{\"line\":{\"color\":\"#2a3f5f\"}},\"ternary\":{\"aaxis\":{\"gridcolor\":\"#DFE8F3\",\"linecolor\":\"#A2B1C6\",\"ticks\":\"\"},\"baxis\":{\"gridcolor\":\"#DFE8F3\",\"linecolor\":\"#A2B1C6\",\"ticks\":\"\"},\"bgcolor\":\"white\",\"caxis\":{\"gridcolor\":\"#DFE8F3\",\"linecolor\":\"#A2B1C6\",\"ticks\":\"\"}},\"title\":{\"x\":0.05},\"xaxis\":{\"automargin\":true,\"gridcolor\":\"#EBF0F8\",\"linecolor\":\"#EBF0F8\",\"ticks\":\"\",\"title\":{\"standoff\":15},\"zerolinecolor\":\"#EBF0F8\",\"zerolinewidth\":2},\"yaxis\":{\"automargin\":true,\"gridcolor\":\"#EBF0F8\",\"linecolor\":\"#EBF0F8\",\"ticks\":\"\",\"title\":{\"standoff\":15},\"zerolinecolor\":\"#EBF0F8\",\"zerolinewidth\":2}}},\"title\":{\"text\":\"Distribution of Sleep Bins\"},\"showlegend\":true,\"annotations\":[{\"showarrow\":false,\"text\":\"Sleep Bins\",\"x\":0.5,\"y\":0.5,\"font\":{\"size\":20}}]},                        {\"responsive\": true}                    ).then(function(){\n",
              "                            \n",
              "var gd = document.getElementById('bd89ffc6-b9f1-40a3-b598-98b300d5a2f7');\n",
              "var x = new MutationObserver(function (mutations, observer) {{\n",
              "        var display = window.getComputedStyle(gd).display;\n",
              "        if (!display || display === 'none') {{\n",
              "            console.log([gd, 'removed!']);\n",
              "            Plotly.purge(gd);\n",
              "            observer.disconnect();\n",
              "        }}\n",
              "}});\n",
              "\n",
              "// Listen for the removal of the full notebook cells\n",
              "var notebookContainer = gd.closest('#notebook-container');\n",
              "if (notebookContainer) {{\n",
              "    x.observe(notebookContainer, {childList: true});\n",
              "}}\n",
              "\n",
              "// Listen for the clearing of the current output cell\n",
              "var outputEl = gd.closest('.output');\n",
              "if (outputEl) {{\n",
              "    x.observe(outputEl, {childList: true});\n",
              "}}\n",
              "\n",
              "                        })                };                            </script>        </div>\n",
              "</body>\n",
              "</html>"
            ]
          },
          "metadata": {}
        }
      ]
    },
    {
      "cell_type": "markdown",
      "source": [
        "# Checking Sleep bins and its outliers for further analysis"
      ],
      "metadata": {
        "id": "oHfN8-66kL9F"
      }
    },
    {
      "cell_type": "code",
      "source": [
        "import seaborn as sns\n",
        "import matplotlib.pyplot as plt\n",
        "\n",
        "# Set the theme for the plot\n",
        "sns.set_theme(style=\"whitegrid\")\n",
        "\n",
        "# Create the box plot with overlayed individual points\n",
        "plt.figure(figsize=(12, 6))\n",
        "sns.boxplot(x='SleepBins', y='hours', data=sleep_day_df, palette='pastel')\n",
        "sns.stripplot(x='SleepBins', y='hours', data=sleep_day_df, color='black', alpha=0.5)\n",
        "\n",
        "# Add titles and labels\n",
        "plt.title('Box Plot of Sleep Hours by Sleep Bins', fontsize=16)\n",
        "plt.xlabel('Sleep Bins', fontsize=14)\n",
        "plt.ylabel('Hours of Sleep', fontsize=14)\n",
        "\n",
        "# Customize grid and background\n",
        "plt.grid(True, linestyle='--', alpha=0.7)\n",
        "plt.gca().spines['top'].set_visible(False)\n",
        "plt.gca().spines['right'].set_visible(False)\n",
        "\n",
        "plt.show()"
      ],
      "metadata": {
        "colab": {
          "base_uri": "https://localhost:8080/",
          "height": 698
        },
        "id": "pZop67lnir3u",
        "outputId": "31ff5188-b084-4266-f3f9-91b859f0ef42"
      },
      "execution_count": 20,
      "outputs": [
        {
          "output_type": "stream",
          "name": "stderr",
          "text": [
            "<ipython-input-20-14a8c6a2dc27>:9: FutureWarning:\n",
            "\n",
            "\n",
            "\n",
            "Passing `palette` without assigning `hue` is deprecated and will be removed in v0.14.0. Assign the `x` variable to `hue` and set `legend=False` for the same effect.\n",
            "\n",
            "\n"
          ]
        },
        {
          "output_type": "display_data",
          "data": {
            "text/plain": [
              "<Figure size 1200x600 with 1 Axes>"
            ],
            "image/png": "[encoded data removed]"
          },
          "metadata": {}
        }
      ]
    },
    {
      "cell_type": "markdown",
      "source": [
        "Removing outliers - 3 or less hrs of sleep as its unusual so exclude those with less than 3 hrs of sleep"
      ],
      "metadata": {
        "id": "i288JYkWkeMM"
      }
    },
    {
      "cell_type": "code",
      "source": [
        "sleep_day_df = sleep_day_df[sleep_day_df['hours'] > 3].copy()\n",
        "#sns.countplot(x='SleepBins', data=sleep_day_df)\n",
        "#plt.title('Distribution of Sleep Bins')\n",
        "#plt.xlabel('Sleep Bins')\n",
        "#plt.ylabel('Count')\n",
        "#plt.show()"
      ],
      "metadata": {
        "collapsed": true,
        "id": "yAEALLg7TC5i"
      },
      "execution_count": 21,
      "outputs": []
    },
    {
      "cell_type": "code",
      "source": [
        "# Create a DataFrame from value_counts and reset the index\n",
        "#sleep_bins_df = sleep_day_df['SleepBins'].value_counts().reset_index()\n",
        "#sleep_bins_df.columns = ['SleepBins', 'count']  # Rename columns for clarity\n",
        "\n",
        "# Now create the bar plot with the corrected column names\n",
        "#fig_sleep_bins = px.bar(sleep_bins_df,\n",
        "                     #   x='SleepBins',\n",
        "                      #  y='count',\n",
        "                      #  labels={'SleepBins': 'Sleep Bins', 'count': 'Count'},\n",
        "                      #  title='Distribution of Sleep Bins')\n"
      ],
      "metadata": {
        "id": "OPl4JJBpmquB"
      },
      "execution_count": 22,
      "outputs": []
    },
    {
      "cell_type": "markdown",
      "source": [
        "## SLEEP AND ACTIVITY"
      ],
      "metadata": {
        "id": "esNLcTiAKa2Y"
      }
    },
    {
      "cell_type": "code",
      "source": [
        "import dash\n",
        "from dash import dcc  # Import dcc from dash\n",
        "from dash import html # Import html from dash\n",
        "# The rest of your code\n",
        "from dash.dependencies import Input, Output"
      ],
      "metadata": {
        "id": "cd3wUcLZs0rH"
      },
      "execution_count": 23,
      "outputs": []
    },
    {
      "cell_type": "code",
      "source": [
        "# Create the Dash app\n",
        "app = JupyterDash(__name__)\n",
        "\n",
        "# Define the layout of the dashboard\n",
        "app.layout = html.Div([\n",
        "    html.H2(\"Sleep and Activity Analysis Dashboard\"),\n",
        "\n",
        "    # Time picker\n",
        "    dcc.DatePickerRange(\n",
        "        id='date-picker-range',\n",
        "        min_date_allowed=sleep_day_df['SleepDay'].min(),\n",
        "        max_date_allowed=sleep_day_df['SleepDay'].max(),\n",
        "        start_date=sleep_day_df['SleepDay'].min(),\n",
        "        end_date=sleep_day_df['SleepDay'].max()\n",
        "    ),\n",
        "\n",
        "    # Dropdown to select panel\n",
        "    dcc.Dropdown(\n",
        "        id='panel-dropdown',\n",
        "        options=[\n",
        "            {'label': 'Sleep Distribution', 'value': 'panel1'},\n",
        "            {'label': 'Activity Type vs Day of Week', 'value': 'panel2'},\n",
        "            {'label': 'Total Activity vs Total Steps', 'value': 'panel3'},\n",
        "        ],\n",
        "        value='panel1',  # Default to panel 1\n",
        "    ),\n",
        "\n",
        "    # Placeholder for the dynamic content\n",
        "    dcc.Graph(id='dynamic-panel')\n",
        "])\n",
        "\n",
        "# Callback to update the panel based on dropdown selection\n",
        "@app.callback(\n",
        "    Output('dynamic-panel', 'figure'),\n",
        "    [Input('panel-dropdown', 'value'),\n",
        "     Input('date-picker-range', 'start_date'),\n",
        "     Input('date-picker-range', 'end_date')]\n",
        ")\n",
        "def update_panel(panel, start_date, end_date):\n",
        "    filtered_activity = daily_activity_df[(daily_activity_df['ActivityDate'] >= pd.to_datetime(start_date)) &\n",
        "                                          (daily_activity_df['ActivityDate'] <= pd.to_datetime(end_date))]\n",
        "\n",
        "    filtered_sleep = sleep_day_df[(sleep_day_df['SleepDay'] >= pd.to_datetime(start_date)) &\n",
        "                                  (sleep_day_df['SleepDay'] <= pd.to_datetime(end_date))]\n",
        "\n",
        "    if panel == 'panel1':\n",
        "        # Sleep Distribution (SleepBins vs Count)\n",
        "        sleep_bins_count = filtered_sleep['SleepBins'].value_counts().reset_index()\n",
        "        sleep_bins_count.columns = ['SleepBins', 'Count']\n",
        "        fig = px.bar(sleep_bins_count, x='SleepBins', y='Count', title='Sleep Bins Distribution')\n",
        "\n",
        "    elif panel == 'panel2':\n",
        "        # Activity Type vs Day of the Week\n",
        "        filtered_activity['DayOfWeek'] = filtered_activity['ActivityDate'].dt.day_name()\n",
        "        filtered_activity['WeekPart'] = filtered_activity['DayOfWeek'].apply(lambda x: 'Weekend' if x in ['Saturday', 'Sunday'] else 'Weekday')\n",
        "        activity_vs_day = filtered_activity.groupby(['WeekPart', 'DayOfWeek']).mean().reset_index()\n",
        "        fig = px.bar(activity_vs_day,\n",
        "                     x='DayOfWeek',\n",
        "                     y=['LightlyActive', 'ModeratelyActive', 'VeryActive'],\n",
        "                     title='Activity Type vs Day of Week',\n",
        "                     barmode='group')\n",
        "\n",
        "    elif panel == 'panel3':\n",
        "        # Total Activity vs Total Steps\n",
        "        filtered_activity['TotalActivity'] = (filtered_activity['LightlyActive'] +\n",
        "                                              filtered_activity['ModeratelyActive'] +\n",
        "                                              filtered_activity['VeryActive'])\n",
        "        fig = px.scatter(filtered_activity,\n",
        "                         x='TotalActivity',\n",
        "                         y='TotalSteps',\n",
        "                         color='TotalSteps',\n",
        "                         title='Total Activity vs Total Steps')\n",
        "\n",
        "    return fig\n",
        "\n"
      ],
      "metadata": {
        "colab": {
          "base_uri": "https://localhost:8080/"
        },
        "id": "ZURTzNqPKQek",
        "outputId": "d25e202a-af81-49ce-e081-b8fc20c17b0a"
      },
      "execution_count": 24,
      "outputs": [
        {
          "output_type": "stream",
          "name": "stderr",
          "text": [
            "/usr/local/lib/python3.11/dist-packages/dash/dash.py:538: UserWarning:\n",
            "\n",
            "JupyterDash is deprecated, use Dash instead.\n",
            "See https://dash.plotly.com/dash-in-jupyter for more details.\n",
            "\n"
          ]
        }
      ]
    },
    {
      "cell_type": "code",
      "source": [
        "# Run the app\n",
        "app.run_server(mode='inline', debug=True)"
      ],
      "metadata": {
        "colab": {
          "base_uri": "https://localhost:8080/",
          "height": 1000
        },
        "id": "sw_TiwWutHTm",
        "outputId": "98e6415a-0b9f-4169-edc4-29841553ae8d"
      },
      "execution_count": 27,
      "outputs": [
        {
          "output_type": "display_data",
          "data": {
            "text/plain": [
              "<IPython.core.display.Javascript object>"
            ],
            "application/javascript": [
              "(async (port, path, width, height, cache, element) => {\n",
              "    if (!google.colab.kernel.accessAllowed && !cache) {\n",
              "      return;\n",
              "    }\n",
              "    element.appendChild(document.createTextNode(''));\n",
              "    const url = await google.colab.kernel.proxyPort(port, {cache});\n",
              "    const iframe = document.createElement('iframe');\n",
              "    iframe.src = new URL(path, url).toString();\n",
              "    iframe.height = height;\n",
              "    iframe.width = width;\n",
              "    iframe.style.border = 0;\n",
              "    iframe.allow = [\n",
              "        'accelerometer',\n",
              "        'autoplay',\n",
              "        'camera',\n",
              "        'clipboard-read',\n",
              "        'clipboard-write',\n",
              "        'gyroscope',\n",
              "        'magnetometer',\n",
              "        'microphone',\n",
              "        'serial',\n",
              "        'usb',\n",
              "        'xr-spatial-tracking',\n",
              "    ].join('; ');\n",
              "    element.appendChild(iframe);\n",
              "  })(8050, \"/\", \"100%\", 650, false, window.element)"
            ]
          },
          "metadata": {}
        },
        {
          "output_type": "display_data",
          "data": {
            "text/plain": [
              "<IPython.core.display.Javascript object>"
            ],
            "application/javascript": [
              "(async (port, path, width, height, cache, element) => {\n",
              "    if (!google.colab.kernel.accessAllowed && !cache) {\n",
              "      return;\n",
              "    }\n",
              "    element.appendChild(document.createTextNode(''));\n",
              "    const url = await google.colab.kernel.proxyPort(port, {cache});\n",
              "    const iframe = document.createElement('iframe');\n",
              "    iframe.src = new URL(path, url).toString();\n",
              "    iframe.height = height;\n",
              "    iframe.width = width;\n",
              "    iframe.style.border = 0;\n",
              "    iframe.allow = [\n",
              "        'accelerometer',\n",
              "        'autoplay',\n",
              "        'camera',\n",
              "        'clipboard-read',\n",
              "        'clipboard-write',\n",
              "        'gyroscope',\n",
              "        'magnetometer',\n",
              "        'microphone',\n",
              "        'serial',\n",
              "        'usb',\n",
              "        'xr-spatial-tracking',\n",
              "    ].join('; ');\n",
              "    element.appendChild(iframe);\n",
              "  })(8050, \"/\", \"100%\", 650, false, window.element)"
            ]
          },
          "metadata": {}
        }
      ]
    }
  ]
}